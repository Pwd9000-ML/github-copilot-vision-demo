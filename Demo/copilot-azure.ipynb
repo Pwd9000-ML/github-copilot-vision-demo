{
 "cells": [
  {
   "cell_type": "markdown",
   "metadata": {},
   "source": [
    "# 1. Connecting to Azure and getting the resources from correct Resource Group "
   ]
  },
  {
   "cell_type": "markdown",
   "metadata": {},
   "source": [
    "**Before you start you need to login to Azure to correct subscription**\n",
    "\n",
    "Log into Azure using the Azure CLI:\n",
    "```powershell\n",
    "az login --tenant ''\n",
    "az account set --subscription ''\n",
    "```"
   ]
  },
  {
   "cell_type": "markdown",
   "metadata": {},
   "source": [
    "**Setup some variables from Azure that will be used in the code later**"
   ]
  },
  {
   "cell_type": "code",
   "execution_count": null,
   "metadata": {},
   "outputs": [],
   "source": [
    "%pip install python-dotenv"
   ]
  },
  {
   "cell_type": "code",
   "execution_count": 1,
   "metadata": {},
   "outputs": [],
   "source": [
    "\n",
    "\n",
    "from dotenv import load_dotenv\n",
    "import os\n",
    "# Load environment variables from .env file\n",
    "load_dotenv()\n",
    "\n",
    "# Assign variables from environment variables\n",
    "subscription_id = os.getenv('AZURE_SUBSCRIPTION_ID')\n",
    "resource_group_name = os.getenv('AZURE_RESOURCE_GROUP_NAME')\n",
    "connection_string = os.getenv('AZURE_STORAGE_CONNECTION_STRING')\n",
    "container_name = os.getenv('AZURE_CONTAINER_NAME')\n",
    "storage_account_name = os.getenv('AZURE_STORAGE_ACCOUNT_NAME')"
   ]
  },
  {
   "cell_type": "markdown",
   "metadata": {},
   "source": [
    "*GitHub Copilot is great with help to install as well the libraries that are missing in the code.*\n",
    "\n",
    "*To do that ask Copilot to **/fix** the code and you will get the code as below*\n",
    "\n",
    "*Sometimes Copilot will show code like ```python !pip``` instead of ```python %pip```, but the code will still works for you, as the model is not updated yet with 100% of latest changes of libraries*"
   ]
  },
  {
   "cell_type": "code",
   "execution_count": null,
   "metadata": {},
   "outputs": [],
   "source": [
    "%pip install azure-identity\n",
    "%pip install azure-mgmt-resource"
   ]
  },
  {
   "cell_type": "markdown",
   "metadata": {},
   "source": [
    "**GitHub Copilot**\n",
    "\n",
    "Connect to Azure using Azure Identity and list all the resources from provided resource group. Save the resourceId to the array called 'resource_array'"
   ]
  },
  {
   "cell_type": "code",
   "execution_count": 9,
   "metadata": {
    "vscode": {
     "languageId": "markdown"
    }
   },
   "outputs": [],
   "source": [
    "\n",
    "from azure.identity import DefaultAzureCredential\n",
    "from azure.mgmt.resource import ResourceManagementClient\n",
    "\n",
    "# Authenticate using DefaultAzureCredential\n",
    "credential = DefaultAzureCredential()\n",
    "\n",
    "# Initialize the ResourceManagementClient\n",
    "resource_client = ResourceManagementClient(credential, subscription_id)\n",
    "\n",
    "# List all resources in the specified resource group\n",
    "resources = resource_client.resources.list_by_resource_group(resource_group_name)\n",
    "\n",
    "# Save the resource IDs to the array\n",
    "resource_array = [resource.id for resource in resources]"
   ]
  },
  {
   "cell_type": "markdown",
   "metadata": {},
   "source": [
    "**GitHub Copilot**\n",
    "\n",
    "For each resource.id in resource_array, get the json from Azure and save it as a separate file to the folder json_files"
   ]
  },
  {
   "cell_type": "code",
   "execution_count": 13,
   "metadata": {},
   "outputs": [
    {
     "name": "stdout",
     "output_type": "stream",
     "text": [
      "Resource details saved to json_files directory.\n"
     ]
    }
   ],
   "source": [
    "import os\n",
    "import json\n",
    "\n",
    "# Ensure the directory exists\n",
    "os.makedirs('json_files', exist_ok=True)\n",
    "\n",
    "# Iterate over each resource ID in the resource_array\n",
    "for resource_id in resource_array:\n",
    "    # Get the resource details\n",
    "    if 'servers' in resource_id:\n",
    "        api_version = '2014-01-01'\n",
    "    else:\n",
    "        if 'storageAccounts' in resource_id:\n",
    "            api_version = '2024-01-01'\n",
    "        else:\n",
    "            api_version = '2023-12-01'\n",
    "    resource = resource_client.resources.get_by_id(resource_id, api_version=api_version)\n",
    "    \n",
    "    # Convert the resource details to a dictionary\n",
    "    resource_json = resource.as_dict()\n",
    "    \n",
    "    # Create a file name based on the resource name\n",
    "    file_name = f\"json_files/{resource.name}.json\"\n",
    "    \n",
    "    # Save the resource details to a JSON file\n",
    "    with open(file_name, 'w') as f:\n",
    "        json.dump(resource_json, f, indent=4)\n",
    "\n",
    "print(\"Resource details saved to json_files directory.\")"
   ]
  },
  {
   "cell_type": "markdown",
   "metadata": {},
   "source": [
    "**GitHub Copilot**\n",
    "\n",
    "If the resource type is 'servers', use api_version: '2014-01-01', otherwise use api_version '2023-12-01'"
   ]
  },
  {
   "cell_type": "markdown",
   "metadata": {},
   "source": [
    "# 2. Save the files to the blob storage"
   ]
  },
  {
   "cell_type": "markdown",
   "metadata": {},
   "source": [
    "**GitHub Copilot**\n",
    "\n",
    "Save all the files from folder json_files to the provided blob storage"
   ]
  },
  {
   "cell_type": "code",
   "execution_count": null,
   "metadata": {},
   "outputs": [],
   "source": [
    "%pip install azure.storage"
   ]
  },
  {
   "cell_type": "code",
   "execution_count": null,
   "metadata": {
    "vscode": {
     "languageId": "markdown"
    }
   },
   "outputs": [],
   "source": [
    "# Save all the files from folder json_files to the provided blob storage\n",
    "\n",
    "from azure.storage.blob import BlobServiceClient\n",
    "\n",
    "# Initialize the BlobServiceClient\n",
    "blob_service_client = BlobServiceClient.from_connection_string(connection_string)\n",
    "\n",
    "container_client = blob_service_client.get_container_client(container_name)\n",
    "\n",
    "# Iterate over each file in the json_files directory\n",
    "for file_name in os.listdir('json_files'):\n",
    "    file_path = os.path.join('json_files', file_name)\n",
    "    \n",
    "    # Upload the file to the blob storage\n",
    "    with open(file_path, 'rb') as data:\n",
    "        container_client.upload_blob(name=file_name, data=data, overwrite=True)\n",
    "\n",
    "print(\"All files have been uploaded to the blob storage.\")"
   ]
  },
  {
   "cell_type": "markdown",
   "metadata": {},
   "source": [
    "# 3. Create a mermaid diagram"
   ]
  },
  {
   "cell_type": "markdown",
   "metadata": {},
   "source": [
    "Install the required libraries"
   ]
  },
  {
   "cell_type": "code",
   "execution_count": null,
   "metadata": {},
   "outputs": [],
   "source": [
    "%pip install mermaid-py"
   ]
  },
  {
   "cell_type": "markdown",
   "metadata": {},
   "source": [
    "**GitHub Copilot**\n",
    "\n",
    "Use the mermaid-py library and 'from mermaid.graph import Graph' to create a graph from files in folder json_files"
   ]
  },
  {
   "cell_type": "code",
   "execution_count": null,
   "metadata": {},
   "outputs": [],
   "source": [
    "from mermaid.graph import Graph\n",
    "import os\n",
    "import json\n",
    "\n",
    "# Initialize a new graph\n",
    "graph = Graph()\n",
    "\n",
    "# Iterate over each file in the json_files directory\n",
    "for file_name in os.listdir('json_files'):\n",
    "    file_path = os.path.join('json_files', file_name)\n",
    "    \n",
    "    # Load the JSON data from the file\n",
    "    with open(file_path, 'r') as f:\n",
    "        resource_data = json.load(f)\n",
    "    \n",
    "    # Add nodes and edges to the graph based on the resource data\n",
    "    resource_id = resource_data.get('id')\n",
    "    resource_name = resource_data.get('name')\n",
    "    resource_type = resource_data.get('type')\n",
    "    \n",
    "    # Add the resource as a node\n",
    "    graph.add_node(resource_id, label=resource_name, shape='box')\n",
    "    \n",
    "    # Add edges based on relationships (if any)\n",
    "    # This is a placeholder for adding edges, modify as needed based on your data structure\n",
    "    if 'dependencies' in resource_data:\n",
    "        for dependency in resource_data['dependencies']:\n",
    "            graph.add_edge(resource_id, dependency)\n",
    "\n",
    "# Save the graph to a markdown file\n",
    "with open('diagram.md', 'w') as f:\n",
    "    f.write(graph.to_markdown())\n",
    "\n",
    "print(\"Graph has been created and saved to diagram.md.\")"
   ]
  },
  {
   "cell_type": "markdown",
   "metadata": {},
   "source": [
    "*Check the example of using the mermaid library*"
   ]
  },
  {
   "cell_type": "markdown",
   "metadata": {},
   "source": [
    "**GitHub Copilot**\n",
    "\n",
    "From the each file in folder json_files, get the id and based on that generate a markdown file, print it and save to the diagram.md file"
   ]
  },
  {
   "cell_type": "code",
   "execution_count": null,
   "metadata": {},
   "outputs": [],
   "source": [
    "import os\n",
    "import json\n",
    "\n",
    "# Initialize a new markdown content\n",
    "markdown_content = \"# Resource Diagram\\n\\n\"\n",
    "\n",
    "# Iterate over each file in the json_files directory\n",
    "for file_name in os.listdir('json_files'):\n",
    "    file_path = os.path.join('json_files', file_name)\n",
    "    \n",
    "    # Load the JSON data from the file\n",
    "    with open(file_path, 'r') as f:\n",
    "        resource_data = json.load(f)\n",
    "    \n",
    "    # Get the resource id\n",
    "    resource_id = resource_data.get('id')\n",
    "    \n",
    "    # Append the resource id to the markdown content\n",
    "    markdown_content += f\"- **Resource ID**: {resource_id}\\n\"\n",
    "\n",
    "# Save the markdown content to a file\n",
    "with open('diagram.md', 'w') as f:\n",
    "    f.write(markdown_content)\n",
    "\n",
    "# Print the markdown content\n",
    "print(markdown_content)"
   ]
  },
  {
   "cell_type": "code",
   "execution_count": null,
   "metadata": {},
   "outputs": [],
   "source": [
    "from mermaid.graph import Graph\n",
    "import os\n",
    "\n",
    "# Initialize a new graph\n",
    "graph = Graph()\n",
    "\n",
    "# Ensure the diagram.md file exists\n",
    "if os.path.exists('diagram.md'):\n",
    "    # Read the content of the diagram.md file\n",
    "    with open('diagram.md', 'r') as f:\n",
    "        lines = f.readlines()\n",
    "\n",
    "    # Iterate over each line in the file\n",
    "    for line in lines:\n",
    "        if line.startswith('- **Resource ID**:'):\n",
    "            resource_id = line.split(': ')[1].strip()\n",
    "            resource_name = resource_id.split('/')[-1]\n",
    "            \n",
    "            # Add the resource as a node\n",
    "            graph.add_node(resource_id, label=resource_name, shape='box')\n",
    "\n",
    "    # Save the graph to a markdown file\n",
    "    with open('mermaid_diagram.md', 'w') as f:\n",
    "        f.write(graph.to_markdown())\n",
    "\n",
    "    print(\"Mermaid diagram has been created and saved to mermaid_diagram.md.\")\n",
    "else:\n",
    "    print(\"The file diagram.md does not exist.\")"
   ]
  }
 ],
 "metadata": {
  "kernelspec": {
   "display_name": "Python 3",
   "language": "python",
   "name": "python3"
  },
  "language_info": {
   "codemirror_mode": {
    "name": "ipython",
    "version": 3
   },
   "file_extension": ".py",
   "mimetype": "text/x-python",
   "name": "python",
   "nbconvert_exporter": "python",
   "pygments_lexer": "ipython3",
   "version": "3.12.6"
  }
 },
 "nbformat": 4,
 "nbformat_minor": 2
}
