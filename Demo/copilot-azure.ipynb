{
 "cells": [
  {
   "cell_type": "markdown",
   "metadata": {},
   "source": [
    "# 1. Connecting to Azure and getting the resources from correct Resource Group "
   ]
  },
  {
   "cell_type": "markdown",
   "metadata": {},
   "source": [
    "**Before you start you need to login to Azure to correct subscription**\n",
    "\n",
    "Log into Azure using the Azure CLI:\n",
    "```powershell\n",
    "az login --tenant ''\n",
    "az account set --subscription ''\n",
    "```"
   ]
  },
  {
   "cell_type": "markdown",
   "metadata": {},
   "source": [
    "**Setup some variables from Azure that will be used in the code later**"
   ]
  },
  {
   "cell_type": "code",
   "execution_count": null,
   "metadata": {},
   "outputs": [],
   "source": [
    "%pip install python-dotenv"
   ]
  },
  {
   "cell_type": "code",
   "execution_count": null,
   "metadata": {},
   "outputs": [],
   "source": [
    "\n",
    "\n",
    "from dotenv import load_dotenv\n",
    "import os\n",
    "# Load environment variables from .env file\n",
    "load_dotenv()\n",
    "\n",
    "# Assign variables from environment variables\n",
    "subscription_id = os.getenv('AZURE_SUBSCRIPTION_ID')\n",
    "resource_group_name = os.getenv('AZURE_RESOURCE_GROUP_NAME')\n",
    "connection_string = os.getenv('AZURE_STORAGE_CONNECTION_STRING')\n",
    "container_name = os.getenv('AZURE_CONTAINER_NAME')\n",
    "storage_account_name = os.getenv('AZURE_STORAGE_ACCOUNT_NAME')"
   ]
  },
  {
   "cell_type": "markdown",
   "metadata": {},
   "source": [
    "*GitHub Copilot is great with help to install as well the libraries that are missing in the code.*\n",
    "\n",
    "*To do that ask Copilot to **/fix** the code and you will get the code as below*\n",
    "\n",
    "*Sometimes Copilot will show code like ```python !pip``` instead of ```python %pip```, but the code will still works for you, as the model is not updated yet with 100% of latest changes of libraries*"
   ]
  },
  {
   "cell_type": "code",
   "execution_count": null,
   "metadata": {},
   "outputs": [],
   "source": [
    "%pip install azure-identity\n",
    "%pip install azure-mgmt-resource"
   ]
  },
  {
   "cell_type": "markdown",
   "metadata": {},
   "source": [
    "**GitHub Copilot**\n",
    "\n",
    "Connect to Azure using Azure Identity and list all the resources from provided resource group. Save the resourceId to the array called 'resource_array'"
   ]
  },
  {
   "cell_type": "code",
   "execution_count": null,
   "metadata": {},
   "outputs": [],
   "source": [
    "from azure.identity import DefaultAzureCredential\n",
    "from azure.mgmt.resource import ResourceManagementClient\n",
    "\n",
    "# Authenticate using DefaultAzureCredential\n",
    "credential = DefaultAzureCredential()\n",
    "\n",
    "# Initialize the ResourceManagementClient\n",
    "resource_client = ResourceManagementClient(credential, subscription_id)\n",
    "\n",
    "# List all resources in the specified resource group\n",
    "resources = resource_client.resources.list_by_resource_group(resource_group_name)\n",
    "\n",
    "# Save the resource IDs to the array\n",
    "resource_array = [resource.id for resource in resources]\n",
    "\n",
    "print(resource_array)"
   ]
  },
  {
   "cell_type": "code",
   "execution_count": null,
   "metadata": {},
   "outputs": [],
   "source": []
  },
  {
   "cell_type": "markdown",
   "metadata": {},
   "source": [
    "**GitHub Copilot**\n",
    "\n",
    "For each resource.id in resource_array, get the json from Azure and save it as a separate file to the folder json_files"
   ]
  },
  {
   "cell_type": "code",
   "execution_count": null,
   "metadata": {},
   "outputs": [],
   "source": []
  },
  {
   "cell_type": "markdown",
   "metadata": {},
   "source": [
    "**GitHub Copilot**\n",
    "\n",
    "If the resource type is 'servers', use api_version: '2014-01-01', otherwise use api_version '2023-12-01'"
   ]
  },
  {
   "cell_type": "markdown",
   "metadata": {},
   "source": [
    "# 2. Save the files to the blob storage"
   ]
  },
  {
   "cell_type": "markdown",
   "metadata": {},
   "source": [
    "**GitHub Copilot**\n",
    "\n",
    "Save all the files from folder json_files to the provided blob storage"
   ]
  },
  {
   "cell_type": "code",
   "execution_count": null,
   "metadata": {
    "vscode": {
     "languageId": "markdown"
    }
   },
   "outputs": [],
   "source": []
  },
  {
   "cell_type": "markdown",
   "metadata": {},
   "source": [
    "# 3. Create a mermaid diagram"
   ]
  },
  {
   "cell_type": "markdown",
   "metadata": {},
   "source": [
    "Install the required libraries"
   ]
  },
  {
   "cell_type": "code",
   "execution_count": null,
   "metadata": {},
   "outputs": [],
   "source": [
    "%pip install mermaid-py"
   ]
  },
  {
   "cell_type": "markdown",
   "metadata": {},
   "source": [
    "**GitHub Copilot**\n",
    "\n",
    "Use the mermaid-py library and 'from mermaid.graph import Graph' to create a graph from files in folder json_files"
   ]
  },
  {
   "cell_type": "code",
   "execution_count": null,
   "metadata": {},
   "outputs": [],
   "source": []
  },
  {
   "cell_type": "markdown",
   "metadata": {},
   "source": [
    "*Check the example of using the mermaid library*"
   ]
  },
  {
   "cell_type": "markdown",
   "metadata": {},
   "source": [
    "**GitHub Copilot**\n",
    "\n",
    "From the each file in folder json_files, get the id and based on that generate a markdown file, print it and save to the diagram.md file"
   ]
  },
  {
   "cell_type": "code",
   "execution_count": null,
   "metadata": {},
   "outputs": [],
   "source": []
  }
 ],
 "metadata": {
  "kernelspec": {
   "display_name": "Python 3",
   "language": "python",
   "name": "python3"
  },
  "language_info": {
   "codemirror_mode": {
    "name": "ipython",
    "version": 3
   },
   "file_extension": ".py",
   "mimetype": "text/x-python",
   "name": "python",
   "nbconvert_exporter": "python",
   "pygments_lexer": "ipython3",
   "version": "3.12.6"
  }
 },
 "nbformat": 4,
 "nbformat_minor": 2
}
