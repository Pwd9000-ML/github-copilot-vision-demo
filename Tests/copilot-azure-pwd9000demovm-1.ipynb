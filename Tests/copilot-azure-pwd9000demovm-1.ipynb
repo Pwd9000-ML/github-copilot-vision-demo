{
 "cells": [
  {
   "cell_type": "markdown",
   "metadata": {},
   "source": [
    "# 1. Connecting to Azure and getting the resources from correct Resource Group "
   ]
  },
  {
   "cell_type": "markdown",
   "metadata": {},
   "source": [
    "**Before you start you need to login to Azure to correct subscription**\n",
    "\n",
    "Log into Azure using the Azure CLI:\n",
    "```powershell\n",
    "az login --tenant ''\n",
    "az account set --subscription ''\n",
    "```"
   ]
  },
  {
   "cell_type": "markdown",
   "metadata": {},
   "source": [
    "**Setup some variables from Azure that will be used in the code later**"
   ]
  },
  {
   "cell_type": "code",
   "execution_count": 1,
   "metadata": {},
   "outputs": [],
   "source": [
    "from dotenv import load_dotenv\n",
    "import os\n",
    "# Load environment variables from .env file\n",
    "load_dotenv()\n",
    "\n",
    "# Assign variables from environment variables\n",
    "subscription_id = os.getenv('AZURE_SUBSCRIPTION_ID')\n",
    "resource_group_name = os.getenv('AZURE_RESOURCE_GROUP_NAME')\n",
    "connection_string = os.getenv('AZURE_STORAGE_CONNECTION_STRING')\n",
    "container_name = os.getenv('AZURE_CONTAINER_NAME')\n",
    "storage_account_name = os.getenv('AZURE_STORAGE_ACCOUNT_NAME')"
   ]
  },
  {
   "cell_type": "markdown",
   "metadata": {},
   "source": [
    "*GitHub Copilot is great with help to install as well the libraries that are missing in the code.*\n",
    "\n",
    "*To do that ask Copilot to **/fix** the code and you will get the code as below*\n",
    "\n",
    "*Sometimes Copilot will show code like ```python !pip``` instead of ```python %pip```, but the code will still works for you, as the model is not updated yet with 100% of latest changes of libraries*"
   ]
  },
  {
   "cell_type": "code",
   "execution_count": null,
   "metadata": {},
   "outputs": [],
   "source": [
    "%pip install azure-identity\n",
    "%pip install azure-mgmt-resource"
   ]
  },
  {
   "cell_type": "markdown",
   "metadata": {},
   "source": [
    "**GitHub Copilot**\n",
    "\n",
    "Connect to Azure using Azure Identity and list all the resources from provided resource group. Save the resourceId to the array called 'resource_array'"
   ]
  },
  {
   "cell_type": "code",
   "execution_count": null,
   "metadata": {},
   "outputs": [],
   "source": [
    "from azure.identity import DefaultAzureCredential\n",
    "from azure.mgmt.resource import ResourceManagementClient\n",
    "\n",
    "# Authenticate using DefaultAzureCredential\n",
    "credential = DefaultAzureCredential()\n",
    "\n",
    "# Initialize the ResourceManagementClient\n",
    "resource_client = ResourceManagementClient(credential, subscription_id)\n",
    "\n",
    "# List all resources in the specified resource group\n",
    "resources = resource_client.resources.list_by_resource_group(resource_group_name)\n",
    "\n",
    "# Save the resource IDs to the array\n",
    "resource_array = [resource.id for resource in resources]\n",
    "\n",
    "print(resource_array)"
   ]
  },
  {
   "cell_type": "markdown",
   "metadata": {},
   "source": [
    "**GitHub Copilot**\n",
    "\n",
    "For each resource.id in resource_array, get the json from Azure and save it as a separate file to the folder json_files"
   ]
  },
  {
   "cell_type": "code",
   "execution_count": null,
   "metadata": {},
   "outputs": [],
   "source": [
    "import os\n",
    "import json\n",
    "\n",
    "# Ensure the directory exists\n",
    "os.makedirs('json_files', exist_ok=True)\n",
    "\n",
    "# Iterate over each resource ID in the resource_array\n",
    "for resource_id in resource_array:\n",
    "    # Get the resource details\n",
    "    resource = resource_client.resources.get_by_id(resource_id, api_version='2021-04-01')\n",
    "    \n",
    "    # Convert the resource details to a dictionary\n",
    "    resource_json = resource.as_dict()\n",
    "    \n",
    "    # Create a file name based on the resource name\n",
    "    file_name = f\"json_files/{resource.name}.json\"\n",
    "    \n",
    "    # Save the resource details to a JSON file\n",
    "    with open(file_name, 'w') as f:\n",
    "        json.dump(resource_json, f, indent=4)\n",
    "\n",
    "print(\"Resource details saved to json_files directory.\")"
   ]
  },
  {
   "cell_type": "markdown",
   "metadata": {},
   "source": [
    "**GitHub Copilot**\n",
    "\n",
    "/fix\n"
   ]
  },
  {
   "cell_type": "code",
   "execution_count": null,
   "metadata": {},
   "outputs": [],
   "source": [
    "import os\n",
    "import json\n",
    "\n",
    "# Ensure the directory exists\n",
    "os.makedirs('json_files', exist_ok=True)\n",
    "\n",
    "# Iterate over each resource ID in the resource_array\n",
    "for resource_id in resource_array:\n",
    "    # Get the resource details\n",
    "    resource = resource_client.resources.get_by_id(resource_id, api_version='2023-12-01')\n",
    "    \n",
    "    # Convert the resource details to a dictionary\n",
    "    resource_json = resource.as_dict()\n",
    "    \n",
    "    # Create a file name based on the resource name\n",
    "    file_name = f\"json_files/{resource.name}.json\"\n",
    "    \n",
    "    # Save the resource details to a JSON file\n",
    "    with open(file_name, 'w') as f:\n",
    "        json.dump(resource_json, f, indent=4)\n",
    "\n",
    "print(\"Resource details saved to json_files directory.\")"
   ]
  },
  {
   "cell_type": "markdown",
   "metadata": {},
   "source": [
    "**GitHub Copilot**\n",
    "\n",
    "If the resource type is 'servers', use api_version: '2014-01-01', otherwise use api_version '2023-12-01'"
   ]
  },
  {
   "cell_type": "code",
   "execution_count": null,
   "metadata": {},
   "outputs": [],
   "source": [
    "import os\n",
    "import json\n",
    "\n",
    "# Ensure the directory exists\n",
    "os.makedirs('json_files', exist_ok=True)\n",
    "\n",
    "# Iterate over each resource ID in the resource_array\n",
    "for resource_id in resource_array:\n",
    "    # Get the resource details\n",
    "    if 'servers' in resource_id:\n",
    "        api_version = '2014-01-01'\n",
    "    else:\n",
    "        api_version = '2023-12-01'\n",
    "    resource = resource_client.resources.get_by_id(resource_id, api_version=api_version)\n",
    "    \n",
    "    # Convert the resource details to a dictionary\n",
    "    resource_json = resource.as_dict()\n",
    "    \n",
    "    # Create a file name based on the resource name\n",
    "    file_name = f\"json_files/{resource.name}.json\"\n",
    "    \n",
    "    # Save the resource details to a JSON file\n",
    "    with open(file_name, 'w') as f:\n",
    "        json.dump(resource_json, f, indent=4)\n",
    "\n",
    "print(\"Resource details saved to json_files directory.\")"
   ]
  },
  {
   "cell_type": "code",
   "execution_count": null,
   "metadata": {},
   "outputs": [],
   "source": [
    "import os\n",
    "import json\n",
    "\n",
    "# Ensure the directory exists\n",
    "os.makedirs('json_files', exist_ok=True)\n",
    "\n",
    "# Iterate over each resource ID in the resource_array\n",
    "for resource_id in resource_array:\n",
    "    # Get the resource details\n",
    "    if 'servers' in resource_id:\n",
    "        api_version = '2014-01-01'\n",
    "    else:\n",
    "        if 'storageAccounts' in resource_id:\n",
    "            api_version = '2024-01-01'\n",
    "        else:\n",
    "            api_version = '2023-12-01'\n",
    "    resource = resource_client.resources.get_by_id(resource_id, api_version=api_version)\n",
    "    \n",
    "    # Convert the resource details to a dictionary\n",
    "    resource_json = resource.as_dict()\n",
    "    \n",
    "    # Create a file name based on the resource name\n",
    "    file_name = f\"json_files/{resource.name}.json\"\n",
    "    \n",
    "    # Save the resource details to a JSON file\n",
    "    with open(file_name, 'w') as f:\n",
    "        json.dump(resource_json, f, indent=4)\n",
    "\n",
    "print(\"Resource details saved to json_files directory.\")"
   ]
  },
  {
   "cell_type": "markdown",
   "metadata": {},
   "source": [
    "# 2. Save the files to the blob storage"
   ]
  },
  {
   "cell_type": "markdown",
   "metadata": {},
   "source": [
    "**GitHub Copilot**\n",
    "\n",
    "Save all the files from folder json_files to the provided blob storage"
   ]
  },
  {
   "cell_type": "code",
   "execution_count": null,
   "metadata": {
    "vscode": {
     "languageId": "markdown"
    }
   },
   "outputs": [],
   "source": [
    "from azure.storage.blob import BlobServiceClient, BlobClient, ContainerClient\n",
    "from azure.core.exceptions import ResourceExistsError\n",
    "\n",
    "# Initialize the BlobServiceClient\n",
    "blob_service_client = BlobServiceClient.from_connection_string(connection_string)\n",
    "\n",
    "# Get the container client\n",
    "container_client = blob_service_client.get_container_client(container_name)\n",
    "\n",
    "# Ensure the container exists\n",
    "try:\n",
    "    container_client.create_container()\n",
    "except ResourceExistsError:\n",
    "    print(f\"Container '{container_name}' already exists.\")\n",
    "\n",
    "# Iterate over each file in the json_files folder\n",
    "for json_file in os.listdir('json_files'):\n",
    "    file_path = os.path.join('json_files', json_file)\n",
    "    \n",
    "    # Create a blob client\n",
    "    blob_client = container_client.get_blob_client(json_file)\n",
    "    \n",
    "    # Upload the file to the blob storage\n",
    "    with open(file_path, 'rb') as data:\n",
    "        blob_client.upload_blob(data, overwrite=True)\n",
    "\n",
    "print(\"Files uploaded to blob storage.\")"
   ]
  },
  {
   "cell_type": "markdown",
   "metadata": {},
   "source": [
    "# 3. Create a mermaid diagram"
   ]
  },
  {
   "cell_type": "markdown",
   "metadata": {},
   "source": [
    "Install the required libraries"
   ]
  },
  {
   "cell_type": "code",
   "execution_count": null,
   "metadata": {},
   "outputs": [],
   "source": [
    "%pip install mermaid-py"
   ]
  },
  {
   "cell_type": "code",
   "execution_count": null,
   "metadata": {},
   "outputs": [],
   "source": [
    "import os\n",
    "import json\n",
    "\n",
    "# Initialize a markdown string\n",
    "markdown_content = \"# Azure Resources\\n\\n\"\n",
    "\n",
    "json_files = os.listdir('json_files')\n",
    "\n",
    "# Iterate over each JSON file in the json_files folder\n",
    "for json_file in json_files:\n",
    "    file_path = os.path.join('json_files', json_file)\n",
    "    \n",
    "    # Read the JSON file\n",
    "    with open(file_path, 'r') as f:\n",
    "        resource_data = json.load(f)\n",
    "    \n",
    "    # Extract relevant information\n",
    "    resource_id = resource_data['id']\n",
    "    resource_name = resource_data['name']\n",
    "    resource_type = resource_data['type']\n",
    "    \n",
    "    # Append the resource information to the markdown content\n",
    "    markdown_content += f\"## {resource_name}\\n\"\n",
    "    markdown_content += f\"- **ID**: {resource_id}\\n\"\n",
    "    markdown_content += f\"- **Type**: {resource_type}\\n\"\n",
    "    \n",
    "    # If the resource has dependencies, list them\n",
    "    if 'dependsOn' in resource_data:\n",
    "        markdown_content += \"- **Depends On**:\\n\"\n",
    "        for dependency in resource_data['dependsOn']:\n",
    "            dependency_name = dependency.split('/')[-1]\n",
    "            markdown_content += f\"  - {dependency_name}\\n\"\n",
    "    \n",
    "    markdown_content += \"\\n\"\n",
    "\n",
    "# Save the markdown content to a file\n",
    "with open('azure_resources.md', 'w') as f:\n",
    "    f.write(markdown_content)\n",
    "\n",
    "print(\"Markdown file 'azure_resources.md' generated.\")"
   ]
  },
  {
   "cell_type": "code",
   "execution_count": null,
   "metadata": {},
   "outputs": [],
   "source": [
    "import mermaid as md\n",
    "from mermaid.graph import Graph\n",
    "\n",
    "sequence = Graph('Sequence-diagram',\"\"\"\n",
    "stateDiagram-v2\n",
    "    [*] --> Still\n",
    "    Still --> [*]\n",
    "\n",
    "    Still --> Moving\n",
    "    Moving --> Still\n",
    "    Moving --> Crash\n",
    "    Crash --> [*]\n",
    "\"\"\")\n",
    "render = md.Mermaid(sequence)\n",
    "render # !! note this only works in the notebook that rendered the html."
   ]
  },
  {
   "cell_type": "markdown",
   "metadata": {},
   "source": [
    "**GitHub Copilot**\n",
    "\n",
    "User the mermaid-py library and 'from mermaid.graph import Graph' to create a graph from files in folder json_files"
   ]
  },
  {
   "cell_type": "code",
   "execution_count": null,
   "metadata": {},
   "outputs": [],
   "source": [
    "import mermaid as md\n",
    "from mermaid.graph import Graph\n",
    "\n",
    "# Read the markdown content from the file\n",
    "with open('azure_resources.md', 'r') as f:\n",
    "    markdown_content = f.read()\n",
    "\n",
    "# Initialize the graph with the title and markdown content\n",
    "graph = Graph(title='Azure Resources', script=markdown_content)\n",
    "\n",
    "# Render the graph\n",
    "# graph.show()\n",
    "render = md.Mermaid(graph)\n",
    "render"
   ]
  },
  {
   "cell_type": "code",
   "execution_count": null,
   "metadata": {},
   "outputs": [],
   "source": [
    "import mermaid as md\n",
    "from mermaid.graph import Graph\n",
    "import os\n",
    "import json\n",
    "\n",
    "# Initialize the state diagram\n",
    "state_diagram = \"\"\"\n",
    "stateDiagram-v2\n",
    "\"\"\"\n",
    "\n",
    "# Iterate over each JSON file in the json_files folder\n",
    "for json_file in json_files:\n",
    "    file_path = os.path.join('json_files', json_file)\n",
    "    \n",
    "    # Read the JSON file\n",
    "    with open(file_path, 'r') as f:\n",
    "        resource_data = json.load(f)\n",
    "    \n",
    "    # Extract relevant information\n",
    "    json_files = os.listdir('json_files')\n",
    "    resource_name = resource_data['name']\n",
    "    \n",
    "    # Add states to the diagram\n",
    "    state_diagram += f\"    {resource_name} --> [*]\\n\"\n",
    "    state_diagram += f\"    [*] --> {resource_name}\\n\"\n",
    "\n",
    "# Create the graph\n",
    "sequence = Graph('Sequence-diagram', state_diagram)\n",
    "\n",
    "# Render the graph\n",
    "render = md.Mermaid(sequence)\n",
    "render"
   ]
  },
  {
   "cell_type": "code",
   "execution_count": 3,
   "metadata": {},
   "outputs": [
    {
     "data": {
      "text/html": [
       "<svg id=\"mermaid-svg\" width=\"100%\" xmlns=\"http://www.w3.org/2000/svg\" style=\"max-width: 446.8271484375px;\" viewBox=\"-183.41357421875 -165.96131896972656 446.8271484375 462.922607421875\" role=\"graphics-document document\" aria-roledescription=\"architecture\" xmlns:xlink=\"http://www.w3.org/1999/xlink\"><style xmlns=\"http://www.w3.org/1999/xhtml\">@import url(\"https://cdnjs.cloudflare.com/ajax/libs/font-awesome/6.6.0/css/all.min.css\");</style><style>#mermaid-svg{font-family:\"trebuchet ms\",verdana,arial,sans-serif;font-size:16px;fill:#333;}#mermaid-svg .error-icon{fill:#552222;}#mermaid-svg .error-text{fill:#552222;stroke:#552222;}#mermaid-svg .edge-thickness-normal{stroke-width:1px;}#mermaid-svg .edge-thickness-thick{stroke-width:3.5px;}#mermaid-svg .edge-pattern-solid{stroke-dasharray:0;}#mermaid-svg .edge-thickness-invisible{stroke-width:0;fill:none;}#mermaid-svg .edge-pattern-dashed{stroke-dasharray:3;}#mermaid-svg .edge-pattern-dotted{stroke-dasharray:2;}#mermaid-svg .marker{fill:#333333;stroke:#333333;}#mermaid-svg .marker.cross{stroke:#333333;}#mermaid-svg svg{font-family:\"trebuchet ms\",verdana,arial,sans-serif;font-size:16px;}#mermaid-svg p{margin:0;}#mermaid-svg .edge{stroke-width:3;stroke:#333333;fill:none;}#mermaid-svg .arrow{fill:#333333;}#mermaid-svg .node-bkg{fill:none;stroke:hsl(240, 60%, 86.2745098039%);stroke-width:2px;stroke-dasharray:8;}#mermaid-svg .node-icon-text{display:flex;align-items:center;}#mermaid-svg .node-icon-text&gt;div{color:#fff;margin:1px;height:fit-content;text-align:center;overflow:hidden;display:-webkit-box;-webkit-box-orient:vertical;}#mermaid-svg :root{--mermaid-font-family:\"trebuchet ms\",verdana,arial,sans-serif;}</style><g/><g class=\"architecture-edges\"><g><path d=\"M 100.91357551748237,-43.46131677889235 L 40,-43.46131677889235 L-20.91357551748237,-43.46131677889235 \" class=\"edge\"/></g><g><path d=\"M -60.91357551748237,117.46131677889238 L -60.91357551748237,57.000000000000014 L-60.91357551748237,-3.4613167788923533 \" class=\"edge\"/></g><g><path d=\"M 140.91357551748237,117.46131677889238 L 140.91357551748237,57.000000000000014 L140.91357551748237,-3.4613167788923533 \" class=\"edge\"/></g></g><g class=\"architecture-services\"><g class=\"architecture-service\" transform=\"translate(100.91357551748237,-83.46131677889235)\"><g dy=\"1em\" alignment-baseline=\"middle\" dominant-baseline=\"middle\" text-anchor=\"middle\" transform=\"translate(40, 80)\"><g><rect class=\"background\" style=\"stroke: none\"/><text y=\"-10.1\" style=\"\"><tspan class=\"text-outer-tspan\" x=\"0\" y=\"-0.1em\" dy=\"1.1em\"><tspan font-style=\"normal\" class=\"text-inner-tspan\" font-weight=\"normal\">Database</tspan></tspan></text></g></g><g><g><svg xmlns=\"http://www.w3.org/2000/svg\" width=\"80\" height=\"80\" viewBox=\"0 0 80 80\"><g><rect width=\"80\" height=\"80\" style=\"fill: #087ebf; stroke-width: 0px;\"/><path id=\"IconifyId1939535d2351f023f0\" data-name=\"4\" d=\"m20,57.86c0,3.94,8.95,7.14,20,7.14s20-3.2,20-7.14\" style=\"fill: none; stroke: #fff; stroke-miterlimit: 10; stroke-width: 2px;\"/><path id=\"IconifyId1939535d2351f023f1\" data-name=\"3\" d=\"m20,45.95c0,3.94,8.95,7.14,20,7.14s20-3.2,20-7.14\" style=\"fill: none; stroke: #fff; stroke-miterlimit: 10; stroke-width: 2px;\"/><path id=\"IconifyId1939535d2351f023f2\" data-name=\"2\" d=\"m20,34.05c0,3.94,8.95,7.14,20,7.14s20-3.2,20-7.14\" style=\"fill: none; stroke: #fff; stroke-miterlimit: 10; stroke-width: 2px;\"/><ellipse id=\"IconifyId1939535d2351f023f3\" data-name=\"1\" cx=\"40\" cy=\"22.14\" rx=\"20\" ry=\"7.14\" style=\"fill: none; stroke: #fff; stroke-miterlimit: 10; stroke-width: 2px;\"/><line x1=\"20\" y1=\"57.86\" x2=\"20\" y2=\"22.14\" style=\"fill: none; stroke: #fff; stroke-miterlimit: 10; stroke-width: 2px;\"/><line x1=\"60\" y1=\"57.86\" x2=\"60\" y2=\"22.14\" style=\"fill: none; stroke: #fff; stroke-miterlimit: 10; stroke-width: 2px;\"/></g></svg></g></g></g><g class=\"architecture-service\" transform=\"translate(-100.91357551748237,117.46131677889238)\"><g dy=\"1em\" alignment-baseline=\"middle\" dominant-baseline=\"middle\" text-anchor=\"middle\" transform=\"translate(40, 80)\"><g><rect class=\"background\" style=\"stroke: none\"/><text y=\"-10.1\" style=\"\"><tspan class=\"text-outer-tspan\" x=\"0\" y=\"-0.1em\" dy=\"1.1em\"><tspan font-style=\"normal\" class=\"text-inner-tspan\" font-weight=\"normal\">Storage</tspan></tspan></text></g></g><g><g><svg xmlns=\"http://www.w3.org/2000/svg\" width=\"80\" height=\"80\" viewBox=\"0 0 80 80\"><g><rect width=\"80\" height=\"80\" style=\"fill: #087ebf; stroke-width: 0px;\"/><rect x=\"20\" y=\"15\" width=\"40\" height=\"50\" rx=\"1\" ry=\"1\" style=\"fill: none; stroke: #fff; stroke-miterlimit: 10; stroke-width: 2px;\"/><ellipse cx=\"24\" cy=\"19.17\" rx=\".8\" ry=\".83\" style=\"fill: none; stroke: #fff; stroke-miterlimit: 10; stroke-width: 2px;\"/><ellipse cx=\"56\" cy=\"19.17\" rx=\".8\" ry=\".83\" style=\"fill: none; stroke: #fff; stroke-miterlimit: 10; stroke-width: 2px;\"/><ellipse cx=\"24\" cy=\"60.83\" rx=\".8\" ry=\".83\" style=\"fill: none; stroke: #fff; stroke-miterlimit: 10; stroke-width: 2px;\"/><ellipse cx=\"56\" cy=\"60.83\" rx=\".8\" ry=\".83\" style=\"fill: none; stroke: #fff; stroke-miterlimit: 10; stroke-width: 2px;\"/><ellipse cx=\"40\" cy=\"33.75\" rx=\"14\" ry=\"14.58\" style=\"fill: none; stroke: #fff; stroke-miterlimit: 10; stroke-width: 2px;\"/><ellipse cx=\"40\" cy=\"33.75\" rx=\"4\" ry=\"4.17\" style=\"fill: #fff; stroke: #fff; stroke-miterlimit: 10; stroke-width: 2px;\"/><path d=\"m37.51,42.52l-4.83,13.22c-.26.71-1.1,1.02-1.76.64l-4.18-2.42c-.66-.38-.81-1.26-.33-1.84l9.01-10.8c.88-1.05,2.56-.08,2.09,1.2Z\" style=\"fill: #fff; stroke-width: 0px;\"/></g></svg></g></g></g><g class=\"architecture-service\" transform=\"translate(100.91357551748237,117.46131677889238)\"><g dy=\"1em\" alignment-baseline=\"middle\" dominant-baseline=\"middle\" text-anchor=\"middle\" transform=\"translate(40, 80)\"><g><rect class=\"background\" style=\"stroke: none\"/><text y=\"-10.1\" style=\"\"><tspan class=\"text-outer-tspan\" x=\"0\" y=\"-0.1em\" dy=\"1.1em\"><tspan font-style=\"normal\" class=\"text-inner-tspan\" font-weight=\"normal\">Storage</tspan></tspan></text></g></g><g><g><svg xmlns=\"http://www.w3.org/2000/svg\" width=\"80\" height=\"80\" viewBox=\"0 0 80 80\"><g><rect width=\"80\" height=\"80\" style=\"fill: #087ebf; stroke-width: 0px;\"/><rect x=\"20\" y=\"15\" width=\"40\" height=\"50\" rx=\"1\" ry=\"1\" style=\"fill: none; stroke: #fff; stroke-miterlimit: 10; stroke-width: 2px;\"/><ellipse cx=\"24\" cy=\"19.17\" rx=\".8\" ry=\".83\" style=\"fill: none; stroke: #fff; stroke-miterlimit: 10; stroke-width: 2px;\"/><ellipse cx=\"56\" cy=\"19.17\" rx=\".8\" ry=\".83\" style=\"fill: none; stroke: #fff; stroke-miterlimit: 10; stroke-width: 2px;\"/><ellipse cx=\"24\" cy=\"60.83\" rx=\".8\" ry=\".83\" style=\"fill: none; stroke: #fff; stroke-miterlimit: 10; stroke-width: 2px;\"/><ellipse cx=\"56\" cy=\"60.83\" rx=\".8\" ry=\".83\" style=\"fill: none; stroke: #fff; stroke-miterlimit: 10; stroke-width: 2px;\"/><ellipse cx=\"40\" cy=\"33.75\" rx=\"14\" ry=\"14.58\" style=\"fill: none; stroke: #fff; stroke-miterlimit: 10; stroke-width: 2px;\"/><ellipse cx=\"40\" cy=\"33.75\" rx=\"4\" ry=\"4.17\" style=\"fill: #fff; stroke: #fff; stroke-miterlimit: 10; stroke-width: 2px;\"/><path d=\"m37.51,42.52l-4.83,13.22c-.26.71-1.1,1.02-1.76.64l-4.18-2.42c-.66-.38-.81-1.26-.33-1.84l9.01-10.8c.88-1.05,2.56-.08,2.09,1.2Z\" style=\"fill: #fff; stroke-width: 0px;\"/></g></svg></g></g></g><g class=\"architecture-service\" transform=\"translate(-100.91357551748237,-83.46131677889235)\"><g dy=\"1em\" alignment-baseline=\"middle\" dominant-baseline=\"middle\" text-anchor=\"middle\" transform=\"translate(40, 80)\"><g><rect class=\"background\" style=\"stroke: none\"/><text y=\"-10.1\" style=\"\"><tspan class=\"text-outer-tspan\" x=\"0\" y=\"-0.1em\" dy=\"1.1em\"><tspan font-style=\"normal\" class=\"text-inner-tspan\" font-weight=\"normal\">Server</tspan></tspan></text></g></g><g><g><svg xmlns=\"http://www.w3.org/2000/svg\" width=\"80\" height=\"80\" viewBox=\"0 0 80 80\"><g><rect width=\"80\" height=\"80\" style=\"fill: #087ebf; stroke-width: 0px;\"/><rect x=\"17.5\" y=\"17.5\" width=\"45\" height=\"45\" rx=\"2\" ry=\"2\" style=\"fill: none; stroke: #fff; stroke-miterlimit: 10; stroke-width: 2px;\"/><line x1=\"17.5\" y1=\"32.5\" x2=\"62.5\" y2=\"32.5\" style=\"fill: none; stroke: #fff; stroke-miterlimit: 10; stroke-width: 2px;\"/><line x1=\"17.5\" y1=\"47.5\" x2=\"62.5\" y2=\"47.5\" style=\"fill: none; stroke: #fff; stroke-miterlimit: 10; stroke-width: 2px;\"/><g><path d=\"m56.25,25c0,.27-.45.5-1,.5h-10.5c-.55,0-1-.23-1-.5s.45-.5,1-.5h10.5c.55,0,1,.23,1,.5Z\" style=\"fill: #fff; stroke-width: 0px;\"/><path d=\"m56.25,25c0,.27-.45.5-1,.5h-10.5c-.55,0-1-.23-1-.5s.45-.5,1-.5h10.5c.55,0,1,.23,1,.5Z\" style=\"fill: none; stroke: #fff; stroke-miterlimit: 10;\"/></g><g><path d=\"m56.25,40c0,.27-.45.5-1,.5h-10.5c-.55,0-1-.23-1-.5s.45-.5,1-.5h10.5c.55,0,1,.23,1,.5Z\" style=\"fill: #fff; stroke-width: 0px;\"/><path d=\"m56.25,40c0,.27-.45.5-1,.5h-10.5c-.55,0-1-.23-1-.5s.45-.5,1-.5h10.5c.55,0,1,.23,1,.5Z\" style=\"fill: none; stroke: #fff; stroke-miterlimit: 10;\"/></g><g><path d=\"m56.25,55c0,.27-.45.5-1,.5h-10.5c-.55,0-1-.23-1-.5s.45-.5,1-.5h10.5c.55,0,1,.23,1,.5Z\" style=\"fill: #fff; stroke-width: 0px;\"/><path d=\"m56.25,55c0,.27-.45.5-1,.5h-10.5c-.55,0-1-.23-1-.5s.45-.5,1-.5h10.5c.55,0,1,.23,1,.5Z\" style=\"fill: none; stroke: #fff; stroke-miterlimit: 10;\"/></g><g><circle cx=\"32.5\" cy=\"25\" r=\".75\" style=\"fill: #fff; stroke: #fff; stroke-miterlimit: 10;\"/><circle cx=\"27.5\" cy=\"25\" r=\".75\" style=\"fill: #fff; stroke: #fff; stroke-miterlimit: 10;\"/><circle cx=\"22.5\" cy=\"25\" r=\".75\" style=\"fill: #fff; stroke: #fff; stroke-miterlimit: 10;\"/></g><g><circle cx=\"32.5\" cy=\"40\" r=\".75\" style=\"fill: #fff; stroke: #fff; stroke-miterlimit: 10;\"/><circle cx=\"27.5\" cy=\"40\" r=\".75\" style=\"fill: #fff; stroke: #fff; stroke-miterlimit: 10;\"/><circle cx=\"22.5\" cy=\"40\" r=\".75\" style=\"fill: #fff; stroke: #fff; stroke-miterlimit: 10;\"/></g><g><circle cx=\"32.5\" cy=\"55\" r=\".75\" style=\"fill: #fff; stroke: #fff; stroke-miterlimit: 10;\"/><circle cx=\"27.5\" cy=\"55\" r=\".75\" style=\"fill: #fff; stroke: #fff; stroke-miterlimit: 10;\"/><circle cx=\"22.5\" cy=\"55\" r=\".75\" style=\"fill: #fff; stroke: #fff; stroke-miterlimit: 10;\"/></g></g></svg></g></g></g></g><g class=\"architecture-groups\"><rect x=\"-143.41357551748237\" y=\"-125.96131677889235\" width=\"366.82715103496474\" height=\"382.9226335577847\" class=\"node-bkg\"/><g><g transform=\"translate(-142.41357551748237, -124.96131677889235)\"><g><svg xmlns=\"http://www.w3.org/2000/svg\" width=\"30\" height=\"30\" viewBox=\"0 0 80 80\"><g><rect width=\"80\" height=\"80\" style=\"fill: #087ebf; stroke-width: 0px;\"/><path d=\"m65,47.5c0,2.76-2.24,5-5,5H20c-2.76,0-5-2.24-5-5,0-1.87,1.03-3.51,2.56-4.36-.04-.21-.06-.42-.06-.64,0-2.6,2.48-4.74,5.65-4.97,1.65-4.51,6.34-7.76,11.85-7.76.86,0,1.69.08,2.5.23,2.09-1.57,4.69-2.5,7.5-2.5,6.1,0,11.19,4.38,12.28,10.17,2.14.56,3.72,2.51,3.72,4.83,0,.03,0,.07-.01.1,2.29.46,4.01,2.48,4.01,4.9Z\" style=\"fill: none; stroke: #fff; stroke-miterlimit: 10; stroke-width: 2px;\"/></g></svg></g></g><g dy=\"1em\" alignment-baseline=\"middle\" dominant-baseline=\"start\" text-anchor=\"start\" transform=\"translate(-109.41357551748237, -118.96131677889235)\"><g><rect class=\"background\" style=\"stroke: none\"/><text y=\"-10.1\" style=\"\"><tspan class=\"text-outer-tspan\" x=\"0\" y=\"-0.1em\" dy=\"1.1em\"><tspan font-style=\"normal\" class=\"text-inner-tspan\" font-weight=\"normal\">API</tspan></tspan></text></g></g></g></g></svg>"
      ],
      "text/plain": [
       "<mermaid.__main__.Mermaid at 0x1ff91611910>"
      ]
     },
     "execution_count": 3,
     "metadata": {},
     "output_type": "execute_result"
    }
   ],
   "source": [
    "import mermaid as md\n",
    "from mermaid.graph import Graph\n",
    "\n",
    "sequence = Graph('Sequence-diagram',\"\"\"\n",
    "architecture-beta\n",
    "    group api(cloud)[API]\n",
    "\n",
    "    service db(database)[Database] in api\n",
    "    service disk1(disk)[Storage] in api\n",
    "    service disk2(disk)[Storage] in api\n",
    "    service server(server)[Server] in api\n",
    "\n",
    "    db:L -- R:server\n",
    "    disk1:T -- B:server\n",
    "    disk2:T -- B:db\n",
    "    \n",
    "\n",
    "\"\"\")\n",
    "render = md.Mermaid(sequence)\n",
    "render # !! note this only works in the notebook that rendered the html.\n",
    "\n",
    "# reverse engineer - make a mermaid diagram on web and then write the prompt"
   ]
  },
  {
   "cell_type": "code",
   "execution_count": null,
   "metadata": {},
   "outputs": [],
   "source": [
    "sample_mermaid_diagram = \"\"\"\n",
    "architecture-beta\n",
    "    group api(cloud)[API]\n",
    "\n",
    "    service db(database)[Database] in api\n",
    "    service disk1(disk)[Storage] in api\n",
    "    service disk2(disk)[Storage] in api\n",
    "    service server(server)[Server] in api\n",
    "\n",
    "    db:L -- R:server\n",
    "    disk1:T -- B:server\n",
    "    disk2:T -- B:db\n",
    "\"\"\""
   ]
  },
  {
   "cell_type": "code",
   "execution_count": null,
   "metadata": {},
   "outputs": [],
   "source": [
    "import os\n",
    "import json\n",
    "\n",
    "# Initialize the state diagram\n",
    "state_diagram = \"\"\"\n",
    "architecture-beta\n",
    "    group api(cloud)[API]\n",
    "\"\"\"\n",
    "\n",
    "# Iterate over each JSON file in the json_files folder\n",
    "json_files = os.listdir('json_files')\n",
    "for json_file in json_files:\n",
    "    file_path = os.path.join('json_files', json_file)\n",
    "    \n",
    "    # Read the JSON file\n",
    "    with open(file_path, 'r') as f:\n",
    "        resource_data = json.load(f)\n",
    "    \n",
    "    # Extract relevant information\n",
    "    resource_name = resource_data['name']\n",
    "    resource_type = resource_data['type'].split('/')[-1]\n",
    "    \n",
    "    # Add services to the diagram\n",
    "    state_diagram += f\"    service {resource_name}({resource_type})[{resource_type}] in api\\n\"\n",
    "\n",
    "# Add relationships (example relationships, you can customize as needed)\n",
    "state_diagram += \"\"\"\n",
    "    db:L -- R:server\n",
    "    disk1:T -- B:server\n",
    "    disk2:T -- B:db\n",
    "\"\"\"\n",
    "\n",
    "# Create the graph\n",
    "sequence = Graph('Sequence-diagram', state_diagram)\n",
    "\n",
    "# Render the graph\n",
    "render = md.Mermaid(sequence)\n",
    "render"
   ]
  },
  {
   "cell_type": "code",
   "execution_count": 14,
   "metadata": {},
   "outputs": [
    {
     "name": "stdout",
     "output_type": "stream",
     "text": [
      "\n",
      "architecture-beta\n",
      "    group api(cloud)[API]\n",
      "    service master(databases)[databases] in api\n",
      "    service pwd900webappdemo13577(sites)[sites] in api\n",
      "    service webappdemo-db13577(databases)[databases] in api\n",
      "    service webappdemo-plan-13577(serverfarms)[serverfarms] in api\n",
      "    service webappdemo13577(storageAccounts)[storageAccounts] in api\n",
      "    service webappdemosqlserver13577(servers)[servers] in api\n",
      "\n",
      "    db:L -- R:server\n",
      "    disk1:T -- B:server\n",
      "    disk2:T -- B:db\n",
      "\n"
     ]
    }
   ],
   "source": [
    "import os\n",
    "import json\n",
    "\n",
    "# Initialize the state diagram\n",
    "state_diagram = \"\"\"\n",
    "architecture-beta\n",
    "    group api(cloud)[API]\n",
    "\"\"\"\n",
    "\n",
    "# Path to the json_files directory\n",
    "json_files_path = 'json_files'\n",
    "\n",
    "# Iterate over each JSON file in the json_files folder\n",
    "json_files = os.listdir(json_files_path)\n",
    "for json_file in json_files:\n",
    "    file_path = os.path.join(json_files_path, json_file)\n",
    "    \n",
    "    # Read the JSON file\n",
    "    with open(file_path, 'r') as f:\n",
    "        resource_data = json.load(f)\n",
    "    \n",
    "    # Extract relevant information\n",
    "    resource_name = resource_data['name']\n",
    "    resource_type = resource_data['type'].split('/')[-1]\n",
    "    \n",
    "    # Add services to the diagram\n",
    "    state_diagram += f\"    service {resource_name}({resource_type})[{resource_type}] in api\\n\"\n",
    "\n",
    "# Add relationships (example relationships, you can customize as needed)\n",
    "state_diagram += \"\"\"\n",
    "    db:L -- R:server\n",
    "    disk1:T -- B:server\n",
    "    disk2:T -- B:db\n",
    "\"\"\"\n",
    "\n",
    "# Save the state diagram to a file\n",
    "with open('state_diagram.md', 'w') as f:\n",
    "    f.write(state_diagram)\n",
    "\n",
    "# Print the state diagram\n",
    "print(state_diagram)"
   ]
  },
  {
   "cell_type": "code",
   "execution_count": 16,
   "metadata": {},
   "outputs": [
    {
     "data": {
      "text/html": [
       "Internal Server Error"
      ],
      "text/plain": [
       "<mermaid.__main__.Mermaid at 0x1ff911f57c0>"
      ]
     },
     "execution_count": 16,
     "metadata": {},
     "output_type": "execute_result"
    }
   ],
   "source": [
    "import mermaid as md\n",
    "from mermaid.graph import Graph\n",
    "\n",
    "# Read the state diagram content from the file\n",
    "with open('state_diagram.md', 'r') as f:\n",
    "    state_diagram_content = f.read()\n",
    "\n",
    "# Create the graph\n",
    "state_diagram_graph = Graph('State-diagram', f'{state_diagram_content}')\n",
    "\n",
    "# Render the graph\n",
    "render = md.Mermaid(state_diagram_graph)\n",
    "render"
   ]
  },
  {
   "cell_type": "code",
   "execution_count": null,
   "metadata": {},
   "outputs": [
    {
     "data": {
      "text/html": [
       "<svg id=\"mermaid-svg\" width=\"100%\" xmlns=\"http://www.w3.org/2000/svg\" style=\"max-width: 710.87548828125px;\" viewBox=\"0 0 710.87548828125 378\" role=\"graphics-document document\" aria-roledescription=\"er\" xmlns:xlink=\"http://www.w3.org/1999/xlink\"><style xmlns=\"http://www.w3.org/1999/xhtml\">@import url(\"https://cdnjs.cloudflare.com/ajax/libs/font-awesome/6.6.0/css/all.min.css\");</style><style>#mermaid-svg{font-family:\"trebuchet ms\",verdana,arial,sans-serif;font-size:16px;fill:#333;}#mermaid-svg .error-icon{fill:#552222;}#mermaid-svg .error-text{fill:#552222;stroke:#552222;}#mermaid-svg .edge-thickness-normal{stroke-width:1px;}#mermaid-svg .edge-thickness-thick{stroke-width:3.5px;}#mermaid-svg .edge-pattern-solid{stroke-dasharray:0;}#mermaid-svg .edge-thickness-invisible{stroke-width:0;fill:none;}#mermaid-svg .edge-pattern-dashed{stroke-dasharray:3;}#mermaid-svg .edge-pattern-dotted{stroke-dasharray:2;}#mermaid-svg .marker{fill:#333333;stroke:#333333;}#mermaid-svg .marker.cross{stroke:#333333;}#mermaid-svg svg{font-family:\"trebuchet ms\",verdana,arial,sans-serif;font-size:16px;}#mermaid-svg p{margin:0;}#mermaid-svg .entityBox{fill:#ECECFF;stroke:#9370DB;}#mermaid-svg .attributeBoxOdd{fill:#ffffff;stroke:#9370DB;}#mermaid-svg .attributeBoxEven{fill:#f2f2f2;stroke:#9370DB;}#mermaid-svg .relationshipLabelBox{fill:hsl(80, 100%, 96.2745098039%);opacity:0.7;background-color:hsl(80, 100%, 96.2745098039%);}#mermaid-svg .relationshipLabelBox rect{opacity:0.5;}#mermaid-svg .relationshipLine{stroke:#333333;}#mermaid-svg .entityTitleText{text-anchor:middle;font-size:18px;fill:#333;}#mermaid-svg #MD_PARENT_START{fill:#f5f5f5!important;stroke:#333333!important;stroke-width:1;}#mermaid-svg #MD_PARENT_END{fill:#f5f5f5!important;stroke:#333333!important;stroke-width:1;}#mermaid-svg :root{--mermaid-font-family:\"trebuchet ms\",verdana,arial,sans-serif;}</style><g/><defs><marker id=\"MD_PARENT_START\" refX=\"0\" refY=\"7\" markerWidth=\"190\" markerHeight=\"240\" orient=\"auto\"><path d=\"M 18,7 L9,13 L1,7 L9,1 Z\"/></marker></defs><defs><marker id=\"MD_PARENT_END\" refX=\"19\" refY=\"7\" markerWidth=\"20\" markerHeight=\"28\" orient=\"auto\"><path d=\"M 18,7 L9,13 L1,7 L9,1 Z\"/></marker></defs><defs><marker id=\"ONLY_ONE_START\" refX=\"0\" refY=\"9\" markerWidth=\"18\" markerHeight=\"18\" orient=\"auto\"><path stroke=\"gray\" fill=\"none\" d=\"M9,0 L9,18 M15,0 L15,18\"/></marker></defs><defs><marker id=\"ONLY_ONE_END\" refX=\"18\" refY=\"9\" markerWidth=\"18\" markerHeight=\"18\" orient=\"auto\"><path stroke=\"gray\" fill=\"none\" d=\"M3,0 L3,18 M9,0 L9,18\"/></marker></defs><defs><marker id=\"ZERO_OR_ONE_START\" refX=\"0\" refY=\"9\" markerWidth=\"30\" markerHeight=\"18\" orient=\"auto\"><circle stroke=\"gray\" fill=\"white\" cx=\"21\" cy=\"9\" r=\"6\"/><path stroke=\"gray\" fill=\"none\" d=\"M9,0 L9,18\"/></marker></defs><defs><marker id=\"ZERO_OR_ONE_END\" refX=\"30\" refY=\"9\" markerWidth=\"30\" markerHeight=\"18\" orient=\"auto\"><circle stroke=\"gray\" fill=\"white\" cx=\"9\" cy=\"9\" r=\"6\"/><path stroke=\"gray\" fill=\"none\" d=\"M21,0 L21,18\"/></marker></defs><defs><marker id=\"ONE_OR_MORE_START\" refX=\"18\" refY=\"18\" markerWidth=\"45\" markerHeight=\"36\" orient=\"auto\"><path stroke=\"gray\" fill=\"none\" d=\"M0,18 Q 18,0 36,18 Q 18,36 0,18 M42,9 L42,27\"/></marker></defs><defs><marker id=\"ONE_OR_MORE_END\" refX=\"27\" refY=\"18\" markerWidth=\"45\" markerHeight=\"36\" orient=\"auto\"><path stroke=\"gray\" fill=\"none\" d=\"M3,9 L3,27 M9,18 Q27,0 45,18 Q27,36 9,18\"/></marker></defs><defs><marker id=\"ZERO_OR_MORE_START\" refX=\"18\" refY=\"18\" markerWidth=\"57\" markerHeight=\"36\" orient=\"auto\"><circle stroke=\"gray\" fill=\"white\" cx=\"48\" cy=\"18\" r=\"6\"/><path stroke=\"gray\" fill=\"none\" d=\"M0,18 Q18,0 36,18 Q18,36 0,18\"/></marker></defs><defs><marker id=\"ZERO_OR_MORE_END\" refX=\"39\" refY=\"18\" markerWidth=\"57\" markerHeight=\"36\" orient=\"auto\"><circle stroke=\"gray\" fill=\"white\" cx=\"9\" cy=\"18\" r=\"6\"/><path stroke=\"gray\" fill=\"none\" d=\"M21,18 Q39,0 57,18 Q39,36 21,18\"/></marker></defs><path class=\"er relationshipLine\" d=\"M599.939,66L599.939,74.333C599.939,82.667,599.939,99.333,599.939,116C599.939,132.667,599.939,149.333,599.939,157.667L599.939,166\" marker-end=\"url(#ZERO_OR_MORE_END)\" marker-start=\"url(#ONLY_ONE_START)\" style=\"stroke: gray; fill: none;\"/><path class=\"er relationshipLine\" d=\"M599.939,212L599.939,220.333C599.939,228.667,599.939,245.333,599.939,262C599.939,278.667,599.939,295.333,599.939,303.667L599.939,312\" marker-end=\"url(#ZERO_OR_MORE_END)\" marker-start=\"url(#ONLY_ONE_START)\" style=\"stroke: gray; fill: none;\"/><path class=\"er relationshipLine\" d=\"M102.769,66L102.769,74.333C102.769,82.667,102.769,99.333,117.014,116C131.26,132.667,159.752,149.333,173.998,157.667L188.244,166\" marker-end=\"url(#ZERO_OR_MORE_END)\" marker-start=\"url(#ONLY_ONE_START)\" style=\"stroke: gray; fill: none;\"/><path class=\"er relationshipLine\" d=\"M352.356,66L352.356,74.333C352.356,82.667,352.356,99.333,338.111,116C323.865,132.667,295.373,149.333,281.127,157.667L266.881,166\" marker-end=\"url(#ZERO_OR_MORE_END)\" marker-start=\"url(#ONLY_ONE_START)\" style=\"stroke: gray; fill: none;\"/><g id=\"entity-master-c169513d-88cb-5008-969a-a898fd81f58a\" transform=\"translate(549.93896484375,20 )\"><rect class=\"er entityBox\" x=\"0\" y=\"0\" width=\"100\" height=\"46\"/><text class=\"er entityLabel\" id=\"text-entity-master-c169513d-88cb-5008-969a-a898fd81f58a\" x=\"0\" y=\"0\" transform=\"translate(50,12)\" style=\"dominant-baseline: middle; text-anchor: middle; font-size: 12px;\">master</text><rect class=\"er attributeBoxOdd\" x=\"0\" y=\"24\" width=\"58.5625\" height=\"22\"/><text class=\"er entityLabel\" id=\"text-entity-master-c169513d-88cb-5008-969a-a898fd81f58a-attr-1-type\" x=\"0\" y=\"0\" transform=\"translate(5,35)\" style=\"dominant-baseline: middle; font-size: 10.2px;\">string</text><rect class=\"er attributeBoxOdd\" x=\"58.5625\" y=\"24\" width=\"41.4375\" height=\"22\"/><text class=\"er entityLabel\" id=\"text-entity-master-c169513d-88cb-5008-969a-a898fd81f58a-attr-1-name\" x=\"0\" y=\"0\" transform=\"translate(63.5625,35)\" style=\"dominant-baseline: middle; font-size: 10.2px;\">id</text></g><g id=\"entity-pwd900webappdemo13577-58b4578a-c3ee-59e7-8b45-7db263818b26\" transform=\"translate(140.1533203125,166 )\"><rect class=\"er entityBox\" x=\"0\" y=\"0\" width=\"174.818359375\" height=\"46\"/><text class=\"er entityLabel\" id=\"text-entity-pwd900webappdemo13577-58b4578a-c3ee-59e7-8b45-7db263818b26\" x=\"0\" y=\"0\" transform=\"translate(87.4091796875,12)\" style=\"dominant-baseline: middle; text-anchor: middle; font-size: 12px;\">pwd900webappdemo13577</text><rect class=\"er attributeBoxOdd\" x=\"0\" y=\"24\" width=\"95.9716796875\" height=\"22\"/><text class=\"er entityLabel\" id=\"text-entity-pwd900webappdemo13577-58b4578a-c3ee-59e7-8b45-7db263818b26-attr-1-type\" x=\"0\" y=\"0\" transform=\"translate(5,35)\" style=\"dominant-baseline: middle; font-size: 10.2px;\">string</text><rect class=\"er attributeBoxOdd\" x=\"95.9716796875\" y=\"24\" width=\"78.8466796875\" height=\"22\"/><text class=\"er entityLabel\" id=\"text-entity-pwd900webappdemo13577-58b4578a-c3ee-59e7-8b45-7db263818b26-attr-1-name\" x=\"0\" y=\"0\" transform=\"translate(100.9716796875,35)\" style=\"dominant-baseline: middle; font-size: 10.2px;\">id</text></g><g id=\"entity-webappdemodb13577-46a242ae-a02c-545e-8931-a736be331cda\" transform=\"translate(524.23095703125,312 )\"><rect class=\"er entityBox\" x=\"0\" y=\"0\" width=\"151.416015625\" height=\"46\"/><text class=\"er entityLabel\" id=\"text-entity-webappdemodb13577-46a242ae-a02c-545e-8931-a736be331cda\" x=\"0\" y=\"0\" transform=\"translate(75.7080078125,12)\" style=\"dominant-baseline: middle; text-anchor: middle; font-size: 12px;\">webappdemo-db13577</text><rect class=\"er attributeBoxOdd\" x=\"0\" y=\"24\" width=\"84.2705078125\" height=\"22\"/><text class=\"er entityLabel\" id=\"text-entity-webappdemodb13577-46a242ae-a02c-545e-8931-a736be331cda-attr-1-type\" x=\"0\" y=\"0\" transform=\"translate(5,35)\" style=\"dominant-baseline: middle; font-size: 10.2px;\">string</text><rect class=\"er attributeBoxOdd\" x=\"84.2705078125\" y=\"24\" width=\"67.1455078125\" height=\"22\"/><text class=\"er entityLabel\" id=\"text-entity-webappdemodb13577-46a242ae-a02c-545e-8931-a736be331cda-attr-1-name\" x=\"0\" y=\"0\" transform=\"translate(89.2705078125,35)\" style=\"dominant-baseline: middle; font-size: 10.2px;\">id</text></g><g id=\"entity-webappdemoplan13577-d726210d-8ea7-5c0d-8eb3-6ef0c1cdc134\" transform=\"translate(20,20 )\"><rect class=\"er entityBox\" x=\"0\" y=\"0\" width=\"165.537109375\" height=\"46\"/><text class=\"er entityLabel\" id=\"text-entity-webappdemoplan13577-d726210d-8ea7-5c0d-8eb3-6ef0c1cdc134\" x=\"0\" y=\"0\" transform=\"translate(82.7685546875,12)\" style=\"dominant-baseline: middle; text-anchor: middle; font-size: 12px;\">webappdemo-plan-13577</text><rect class=\"er attributeBoxOdd\" x=\"0\" y=\"24\" width=\"91.3310546875\" height=\"22\"/><text class=\"er entityLabel\" id=\"text-entity-webappdemoplan13577-d726210d-8ea7-5c0d-8eb3-6ef0c1cdc134-attr-1-type\" x=\"0\" y=\"0\" transform=\"translate(5,35)\" style=\"dominant-baseline: middle; font-size: 10.2px;\">string</text><rect class=\"er attributeBoxOdd\" x=\"91.3310546875\" y=\"24\" width=\"74.2060546875\" height=\"22\"/><text class=\"er entityLabel\" id=\"text-entity-webappdemoplan13577-d726210d-8ea7-5c0d-8eb3-6ef0c1cdc134-attr-1-name\" x=\"0\" y=\"0\" transform=\"translate(96.3310546875,35)\" style=\"dominant-baseline: middle; font-size: 10.2px;\">id</text></g><g id=\"entity-webappdemo13577-18dce8ba-8f7a-5806-803f-23bed35b9789\" transform=\"translate(285.537109375,20 )\"><rect class=\"er entityBox\" x=\"0\" y=\"0\" width=\"133.638671875\" height=\"46\"/><text class=\"er entityLabel\" id=\"text-entity-webappdemo13577-18dce8ba-8f7a-5806-803f-23bed35b9789\" x=\"0\" y=\"0\" transform=\"translate(66.8193359375,12)\" style=\"dominant-baseline: middle; text-anchor: middle; font-size: 12px;\">webappdemo13577</text><rect class=\"er attributeBoxOdd\" x=\"0\" y=\"24\" width=\"75.3818359375\" height=\"22\"/><text class=\"er entityLabel\" id=\"text-entity-webappdemo13577-18dce8ba-8f7a-5806-803f-23bed35b9789-attr-1-type\" x=\"0\" y=\"0\" transform=\"translate(5,35)\" style=\"dominant-baseline: middle; font-size: 10.2px;\">string</text><rect class=\"er attributeBoxOdd\" x=\"75.3818359375\" y=\"24\" width=\"58.2568359375\" height=\"22\"/><text class=\"er entityLabel\" id=\"text-entity-webappdemo13577-18dce8ba-8f7a-5806-803f-23bed35b9789-attr-1-name\" x=\"0\" y=\"0\" transform=\"translate(80.3818359375,35)\" style=\"dominant-baseline: middle; font-size: 10.2px;\">id</text></g><g id=\"entity-webappdemosqlserver13577-60c59570-8461-52af-8e1c-f1d277cbf916\" transform=\"translate(509.00244140625,166 )\"><rect class=\"er entityBox\" x=\"0\" y=\"0\" width=\"181.873046875\" height=\"46\"/><text class=\"er entityLabel\" id=\"text-entity-webappdemosqlserver13577-60c59570-8461-52af-8e1c-f1d277cbf916\" x=\"0\" y=\"0\" transform=\"translate(90.9365234375,12)\" style=\"dominant-baseline: middle; text-anchor: middle; font-size: 12px;\">webappdemosqlserver13577</text><rect class=\"er attributeBoxOdd\" x=\"0\" y=\"24\" width=\"99.4990234375\" height=\"22\"/><text class=\"er entityLabel\" id=\"text-entity-webappdemosqlserver13577-60c59570-8461-52af-8e1c-f1d277cbf916-attr-1-type\" x=\"0\" y=\"0\" transform=\"translate(5,35)\" style=\"dominant-baseline: middle; font-size: 10.2px;\">string</text><rect class=\"er attributeBoxOdd\" x=\"99.4990234375\" y=\"24\" width=\"82.3740234375\" height=\"22\"/><text class=\"er entityLabel\" id=\"text-entity-webappdemosqlserver13577-60c59570-8461-52af-8e1c-f1d277cbf916-attr-1-name\" x=\"0\" y=\"0\" transform=\"translate(104.4990234375,35)\" style=\"dominant-baseline: middle; font-size: 10.2px;\">id</text></g><rect class=\"er relationshipLabelBox\" x=\"577.4497680664062\" y=\"109\" width=\"44.978515625\" height=\"14\"/><text class=\"er relationshipLabel\" id=\"rel1\" x=\"599.9390258789062\" y=\"116\" style=\"text-anchor: middle; dominant-baseline: middle; font-size: 12px;\">contains</text><rect class=\"er relationshipLabelBox\" x=\"586.1333618164062\" y=\"255\" width=\"27.611328125\" height=\"14\"/><text class=\"er relationshipLabel\" id=\"rel2\" x=\"599.9390258789062\" y=\"262\" style=\"text-anchor: middle; dominant-baseline: middle; font-size: 12px;\">hosts</text><rect class=\"er relationshipLabelBox\" x=\"106.38653564453125\" y=\"120.7768669128418\" width=\"45.646484375\" height=\"13.999992370605469\"/><text class=\"er relationshipLabel\" id=\"rel3\" x=\"129.20977783203125\" y=\"127.77686309814453\" style=\"text-anchor: middle; dominant-baseline: middle; font-size: 12px;\">supports</text><rect class=\"er relationshipLabelBox\" x=\"309.78338623046875\" y=\"120.77684020996094\" width=\"32.263671875\" height=\"14\"/><text class=\"er relationshipLabel\" id=\"rel4\" x=\"325.91522216796875\" y=\"127.77684020996094\" style=\"text-anchor: middle; dominant-baseline: middle; font-size: 12px;\">stores</text></svg>"
      ],
      "text/plain": [
       "<mermaid.__main__.Mermaid at 0x1ff9103e900>"
      ]
     },
     "execution_count": 25,
     "metadata": {},
     "output_type": "execute_result"
    }
   ],
   "source": [
    "import mermaid as md\n",
    "from mermaid.graph import Graph\n",
    "\n",
    "sequence = Graph('ER-diagram', \"\"\"\n",
    "erDiagram\n",
    "    master {\n",
    "        string id\n",
    "    }\n",
    "    pwd900webappdemo13577 {\n",
    "        string id\n",
    "    }\n",
    "    webappdemo-db13577 {\n",
    "        string id\n",
    "    }\n",
    "    webappdemo-plan-13577 {\n",
    "        string id\n",
    "    }\n",
    "    webappdemo13577 {\n",
    "        string id\n",
    "    }\n",
    "    webappdemosqlserver13577 {\n",
    "        string id\n",
    "    }\n",
    "\n",
    "    master ||--o{ webappdemosqlserver13577 : \"contains\"\n",
    "    webappdemosqlserver13577 ||--o{ webappdemo-db13577 : \"hosts\"\n",
    "    webappdemo-plan-13577 ||--o{ pwd900webappdemo13577 : \"supports\"\n",
    "    webappdemo13577 ||--o{ pwd900webappdemo13577 : \"stores\"\n",
    "\"\"\")\n",
    "render = md.Mermaid(sequence)\n",
    "render # !! note this only works in the notebook that rendered the html.\n",
    "\n",
    "# architecture-beta\n",
    "#     group api(cloud)[API]\n",
    "\n",
    "#     service db(database)[Database] in api\n",
    "#     service disk1(disk)[Storage] in api\n",
    "#     service disk2(disk)[Storage] in api\n",
    "#     service server(server)[Server] in api\n",
    "\n",
    "#     db:L -- R:server\n",
    "#     disk1:T -- B:server\n",
    "#     disk2:T -- B:db"
   ]
  }
 ],
 "metadata": {
  "kernelspec": {
   "display_name": "Python 3",
   "language": "python",
   "name": "python3"
  },
  "language_info": {
   "codemirror_mode": {
    "name": "ipython",
    "version": 3
   },
   "file_extension": ".py",
   "mimetype": "text/x-python",
   "name": "python",
   "nbconvert_exporter": "python",
   "pygments_lexer": "ipython3",
<<<<<<< HEAD
   "version": "3.12.9"
=======
   "version": "3.12.2"
>>>>>>> 9fdeea97dba1cdbb7b9fb4257514acd2b1618a6e
  }
 },
 "nbformat": 4,
 "nbformat_minor": 2
}
