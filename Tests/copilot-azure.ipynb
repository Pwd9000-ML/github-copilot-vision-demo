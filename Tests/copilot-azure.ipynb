{
 "cells": [
  {
   "cell_type": "markdown",
   "metadata": {},
   "source": [
    "From provided Azure subscription, connect to the resource group and list all of the resources "
   ]
  },
  {
   "cell_type": "code",
   "execution_count": null,
   "metadata": {},
   "outputs": [
    {
     "name": "stdout",
     "output_type": "stream",
     "text": [
      "Defaulting to user installation because normal site-packages is not writeable\n",
      "Requirement already satisfied: azure-identity in c:\\users\\pwd9000admin\\appdata\\roaming\\python\\python312\\site-packages (1.19.0)\n",
      "Requirement already satisfied: azure-core>=1.31.0 in c:\\users\\pwd9000admin\\appdata\\roaming\\python\\python312\\site-packages (from azure-identity) (1.32.0)\n",
      "Requirement already satisfied: cryptography>=2.5 in c:\\users\\pwd9000admin\\appdata\\roaming\\python\\python312\\site-packages (from azure-identity) (43.0.3)\n",
      "Requirement already satisfied: msal>=1.30.0 in c:\\users\\pwd9000admin\\appdata\\roaming\\python\\python312\\site-packages (from azure-identity) (1.31.1)\n",
      "Requirement already satisfied: msal-extensions>=1.2.0 in c:\\users\\pwd9000admin\\appdata\\roaming\\python\\python312\\site-packages (from azure-identity) (1.2.0)\n",
      "Requirement already satisfied: typing-extensions>=4.0.0 in c:\\users\\pwd9000admin\\appdata\\roaming\\python\\python312\\site-packages (from azure-identity) (4.12.2)\n",
      "Requirement already satisfied: requests>=2.21.0 in c:\\users\\pwd9000admin\\appdata\\roaming\\python\\python312\\site-packages (from azure-core>=1.31.0->azure-identity) (2.32.3)\n",
      "Requirement already satisfied: six>=1.11.0 in c:\\python312\\lib\\site-packages (from azure-core>=1.31.0->azure-identity) (1.16.0)\n",
      "Requirement already satisfied: cffi>=1.12 in c:\\users\\pwd9000admin\\appdata\\roaming\\python\\python312\\site-packages (from cryptography>=2.5->azure-identity) (1.17.1)\n",
      "Requirement already satisfied: PyJWT<3,>=1.0.0 in c:\\users\\pwd9000admin\\appdata\\roaming\\python\\python312\\site-packages (from PyJWT[crypto]<3,>=1.0.0->msal>=1.30.0->azure-identity) (2.10.0)\n",
      "Requirement already satisfied: portalocker<3,>=1.4 in c:\\users\\pwd9000admin\\appdata\\roaming\\python\\python312\\site-packages (from msal-extensions>=1.2.0->azure-identity) (2.10.1)\n",
      "Requirement already satisfied: pycparser in c:\\users\\pwd9000admin\\appdata\\roaming\\python\\python312\\site-packages (from cffi>=1.12->cryptography>=2.5->azure-identity) (2.22)\n",
      "Requirement already satisfied: pywin32>=226 in c:\\python312\\lib\\site-packages (from portalocker<3,>=1.4->msal-extensions>=1.2.0->azure-identity) (308)\n",
      "Requirement already satisfied: charset-normalizer<4,>=2 in c:\\users\\pwd9000admin\\appdata\\roaming\\python\\python312\\site-packages (from requests>=2.21.0->azure-core>=1.31.0->azure-identity) (3.4.0)\n",
      "Requirement already satisfied: idna<4,>=2.5 in c:\\users\\pwd9000admin\\appdata\\roaming\\python\\python312\\site-packages (from requests>=2.21.0->azure-core>=1.31.0->azure-identity) (3.10)\n",
      "Requirement already satisfied: urllib3<3,>=1.21.1 in c:\\users\\pwd9000admin\\appdata\\roaming\\python\\python312\\site-packages (from requests>=2.21.0->azure-core>=1.31.0->azure-identity) (2.2.3)\n",
      "Requirement already satisfied: certifi>=2017.4.17 in c:\\users\\pwd9000admin\\appdata\\roaming\\python\\python312\\site-packages (from requests>=2.21.0->azure-core>=1.31.0->azure-identity) (2024.8.30)\n",
      "Note: you may need to restart the kernel to use updated packages.\n",
      "Defaulting to user installation because normal site-packages is not writeable\n",
      "Requirement already satisfied: azure-mgmt-resource in c:\\users\\pwd9000admin\\appdata\\roaming\\python\\python312\\site-packages (23.2.0)\n",
      "Requirement already satisfied: isodate>=0.6.1 in c:\\users\\pwd9000admin\\appdata\\roaming\\python\\python312\\site-packages (from azure-mgmt-resource) (0.7.2)\n",
      "Requirement already satisfied: typing-extensions>=4.6.0 in c:\\users\\pwd9000admin\\appdata\\roaming\\python\\python312\\site-packages (from azure-mgmt-resource) (4.12.2)\n",
      "Requirement already satisfied: azure-common>=1.1 in c:\\users\\pwd9000admin\\appdata\\roaming\\python\\python312\\site-packages (from azure-mgmt-resource) (1.1.28)\n",
      "Requirement already satisfied: azure-mgmt-core>=1.3.2 in c:\\users\\pwd9000admin\\appdata\\roaming\\python\\python312\\site-packages (from azure-mgmt-resource) (1.5.0)\n",
      "Requirement already satisfied: azure-core>=1.31.0 in c:\\users\\pwd9000admin\\appdata\\roaming\\python\\python312\\site-packages (from azure-mgmt-core>=1.3.2->azure-mgmt-resource) (1.32.0)\n",
      "Requirement already satisfied: requests>=2.21.0 in c:\\users\\pwd9000admin\\appdata\\roaming\\python\\python312\\site-packages (from azure-core>=1.31.0->azure-mgmt-core>=1.3.2->azure-mgmt-resource) (2.32.3)\n",
      "Requirement already satisfied: six>=1.11.0 in c:\\python312\\lib\\site-packages (from azure-core>=1.31.0->azure-mgmt-core>=1.3.2->azure-mgmt-resource) (1.16.0)\n",
      "Requirement already satisfied: charset-normalizer<4,>=2 in c:\\users\\pwd9000admin\\appdata\\roaming\\python\\python312\\site-packages (from requests>=2.21.0->azure-core>=1.31.0->azure-mgmt-core>=1.3.2->azure-mgmt-resource) (3.4.0)\n",
      "Requirement already satisfied: idna<4,>=2.5 in c:\\users\\pwd9000admin\\appdata\\roaming\\python\\python312\\site-packages (from requests>=2.21.0->azure-core>=1.31.0->azure-mgmt-core>=1.3.2->azure-mgmt-resource) (3.10)\n",
      "Requirement already satisfied: urllib3<3,>=1.21.1 in c:\\users\\pwd9000admin\\appdata\\roaming\\python\\python312\\site-packages (from requests>=2.21.0->azure-core>=1.31.0->azure-mgmt-core>=1.3.2->azure-mgmt-resource) (2.2.3)\n",
      "Requirement already satisfied: certifi>=2017.4.17 in c:\\users\\pwd9000admin\\appdata\\roaming\\python\\python312\\site-packages (from requests>=2.21.0->azure-core>=1.31.0->azure-mgmt-core>=1.3.2->azure-mgmt-resource) (2024.8.30)\n",
      "Note: you may need to restart the kernel to use updated packages.\n"
     ]
    }
   ],
   "source": [
    "%pip install azure-identity\n",
    "%pip install azure-mgmt-resource"
   ]
  },
  {
   "cell_type": "code",
   "execution_count": 3,
   "metadata": {},
   "outputs": [
    {
     "name": "stdout",
     "output_type": "stream",
     "text": [
      "Authentication successful. Token acquired.\n",
      "No resources found in the specified resource group.\n"
     ]
    }
   ],
   "source": [
    "# Log into Azure using the Azure CLI: az login --tenant 'b4fd7cff-510b-4da5-b133-f7aa6f692ee2'\n",
    "# az account set --subscription '829efd7e-aa80-4c0d-9c1c-7aa2557f8e07'\n",
    "\n",
    "from azure.identity import DefaultAzureCredential\n",
    "from azure.mgmt.resource import ResourceManagementClient\n",
    "\n",
    "# Authenticate and create a client\n",
    "credential = DefaultAzureCredential()\n",
    "subscription_id = '829efd7e-aa80-4c0d-9c1c-7aa2557f8e07'\n",
    "resource_group_name = 'github-copilot-web-apps'  # Replace with your resource group name\n",
    "\n",
    "try:\n",
    "    # Verify authentication\n",
    "    token = credential.get_token(\"https://management.azure.com/.default\")\n",
    "    print(\"Authentication successful. Token acquired.\")\n",
    "\n",
    "    resource_client = ResourceManagementClient(credential, subscription_id)\n",
    "    resources = resource_client.resources.list_by_resource_group(resource_group_name)\n",
    "    r = []\n",
    "\n",
    "    for resource in resources:\n",
    "        r.append(resource.id)\n",
    "        print(f\"Resource Name: {resource.name}, Resource Type: {resource.type}, Resource ID: {resource.id}\")\n",
    "\n",
    "    if not r:\n",
    "        print(\"No resources found in the specified resource group.\")\n",
    "\n",
    "except Exception as e:\n",
    "    print(f\"An error occurred: {e}\")\n",
    "    \n"
   ]
  },
  {
   "cell_type": "markdown",
   "metadata": {},
   "source": [
    "for each resource id in r array, get the json from Azure and save it as a separate file to the folder jsonFiles"
   ]
  },
  {
   "cell_type": "code",
   "execution_count": 3,
   "metadata": {},
   "outputs": [],
   "source": [
    "import os\n",
    "import json\n",
    "\n",
    "# Ensure the directory exists\n",
    "os.makedirs('jsonFiles', exist_ok=True)\n",
    "\n",
    "for resource_id in r:\n",
    "    resource = resource_client.resources.get_by_id(resource_id, api_version='2024-06-01')\n",
    "    resource_json = resource.as_dict()\n",
    "    \n",
    "    # Create a file path based on the resource name\n",
    "    file_name = f\"jsonFiles/{resource.name}.json\"\n",
    "    \n",
    "    # Write the JSON to the file\n",
    "    with open(file_name, 'w') as f:\n",
    "        json.dump(resource_json, f, indent=4)\n",
    "    \n",
    "    print(f\"Saved {resource.name} to {file_name}\")"
   ]
  },
  {
   "cell_type": "code",
   "execution_count": 4,
   "metadata": {},
   "outputs": [
    {
     "name": "stdout",
     "output_type": "stream",
     "text": [
      "Defaulting to user installation because normal site-packages is not writeable\n",
      "Collecting mermaid-py\n",
      "  Downloading mermaid_py-0.6.1-py3-none-any.whl.metadata (5.2 kB)\n",
      "Requirement already satisfied: requests<3.0.0,>=2.31.0 in c:\\users\\pwd9000admin\\appdata\\roaming\\python\\python312\\site-packages (from mermaid-py) (2.32.3)\n",
      "Requirement already satisfied: charset-normalizer<4,>=2 in c:\\users\\pwd9000admin\\appdata\\roaming\\python\\python312\\site-packages (from requests<3.0.0,>=2.31.0->mermaid-py) (3.4.0)\n",
      "Requirement already satisfied: idna<4,>=2.5 in c:\\users\\pwd9000admin\\appdata\\roaming\\python\\python312\\site-packages (from requests<3.0.0,>=2.31.0->mermaid-py) (3.10)\n",
      "Requirement already satisfied: urllib3<3,>=1.21.1 in c:\\users\\pwd9000admin\\appdata\\roaming\\python\\python312\\site-packages (from requests<3.0.0,>=2.31.0->mermaid-py) (2.2.3)\n",
      "Requirement already satisfied: certifi>=2017.4.17 in c:\\users\\pwd9000admin\\appdata\\roaming\\python\\python312\\site-packages (from requests<3.0.0,>=2.31.0->mermaid-py) (2024.8.30)\n",
      "Downloading mermaid_py-0.6.1-py3-none-any.whl (31 kB)\n",
      "Installing collected packages: mermaid-py\n",
      "Successfully installed mermaid-py-0.6.1\n"
     ]
    }
   ],
   "source": [
    "!pip install mermaid-py"
   ]
  }
 ],
 "metadata": {
  "kernelspec": {
   "display_name": "Python 3",
   "language": "python",
   "name": "python3"
  },
  "language_info": {
   "codemirror_mode": {
    "name": "ipython",
    "version": 3
   },
   "file_extension": ".py",
   "mimetype": "text/x-python",
   "name": "python",
   "nbconvert_exporter": "python",
   "pygments_lexer": "ipython3",
   "version": "3.12.6"
  }
 },
 "nbformat": 4,
 "nbformat_minor": 2
}
