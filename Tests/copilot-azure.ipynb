{
 "cells": [
  {
   "cell_type": "markdown",
   "metadata": {},
   "source": [
    "# 1. Connecting to Azure and getting the resources from correct Resource Group "
   ]
  },
  {
   "cell_type": "markdown",
   "metadata": {},
   "source": [
    "**Before you start you need to login to Azure to correct subscription**\n",
    "\n",
    "Log into Azure using the Azure CLI:\n",
    "```powershell\n",
    "az login --tenant ''\n",
    "az account set --subscription ''\n",
    "```"
   ]
  },
  {
   "cell_type": "markdown",
   "metadata": {},
   "source": [
    "**Setup some variables from Azure that will be used in the code later**"
   ]
  },
  {
   "cell_type": "code",
   "execution_count": null,
   "metadata": {},
   "outputs": [],
   "source": [
    "subscription_id = ''\n",
    "resource_group_name = ''\n",
    "\n",
    "connection_string = \"\"\n",
    "container_name = \"\"\n",
    "storage_account_name = \"\""
   ]
  },
  {
   "cell_type": "markdown",
   "metadata": {},
   "source": [
    "*GitHub Copilot is great with help to install as well the libraries that are missing in the code.*\n",
    "\n",
    "*To do that ask Copilot to **/fix** the code and you will get the code as below*\n",
    "\n",
    "*Sometimes Copilot will show code like ```python !pip``` instead of ```python %pip```, but the code will still works for you, as the model is not updated yet with 100% of latest changes of libraries*"
   ]
  },
  {
   "cell_type": "code",
   "execution_count": null,
   "metadata": {},
   "outputs": [],
   "source": [
    "%pip install azure-identity\n",
    "%pip install azure-mgmt-resource"
   ]
  },
  {
   "cell_type": "markdown",
   "metadata": {},
   "source": [
    "**GitHub Copilot**\n",
    "\n",
    "Connect to Azure using Azure Identity and list all the resources from provided resource group. Save the resourceId to the array called 'resource_array'"
   ]
  },
  {
   "cell_type": "code",
   "execution_count": null,
   "metadata": {},
   "outputs": [],
   "source": [
    "from azure.identity import DefaultAzureCredential\n",
    "from azure.mgmt.resource import ResourceManagementClient\n",
    "\n",
    "# Authenticate using DefaultAzureCredential\n",
    "credential = DefaultAzureCredential()\n",
    "\n",
    "# Initialize the ResourceManagementClient\n",
    "resource_client = ResourceManagementClient(credential, subscription_id)\n",
    "\n",
    "# List all resources in the specified resource group\n",
    "resources = resource_client.resources.list_by_resource_group(resource_group_name)\n",
    "\n",
    "# Save the resource IDs to the array\n",
    "resource_array = [resource.id for resource in resources]\n",
    "\n",
    "print(resource_array)"
   ]
  },
  {
   "cell_type": "markdown",
   "metadata": {},
   "source": [
    "**GitHub Copilot**\n",
    "\n",
    "For each resource.id in resource_array, get the json from Azure and save it as a separate file to the folder json_files"
   ]
  },
  {
   "cell_type": "code",
   "execution_count": null,
   "metadata": {},
   "outputs": [],
   "source": [
    "import os\n",
    "import json\n",
    "\n",
    "# Ensure the directory exists\n",
    "os.makedirs('json_files', exist_ok=True)\n",
    "\n",
    "# Iterate over each resource ID in the resource_array\n",
    "for resource_id in resource_array:\n",
    "    # Get the resource details\n",
    "    resource = resource_client.resources.get_by_id(resource_id, api_version='2021-04-01')\n",
    "    \n",
    "    # Convert the resource details to a dictionary\n",
    "    resource_json = resource.as_dict()\n",
    "    \n",
    "    # Create a file name based on the resource name\n",
    "    file_name = f\"json_files/{resource.name}.json\"\n",
    "    \n",
    "    # Save the resource details to a JSON file\n",
    "    with open(file_name, 'w') as f:\n",
    "        json.dump(resource_json, f, indent=4)\n",
    "\n",
    "print(\"Resource details saved to json_files directory.\")"
   ]
  },
  {
   "cell_type": "markdown",
   "metadata": {},
   "source": [
    "**GitHub Copilot**\n",
    "\n",
    "/fix\n"
   ]
  },
  {
   "cell_type": "code",
   "execution_count": null,
   "metadata": {},
   "outputs": [],
   "source": [
    "import os\n",
    "import json\n",
    "\n",
    "# Ensure the directory exists\n",
    "os.makedirs('json_files', exist_ok=True)\n",
    "\n",
    "# Iterate over each resource ID in the resource_array\n",
    "for resource_id in resource_array:\n",
    "    # Get the resource details\n",
    "    resource = resource_client.resources.get_by_id(resource_id, api_version='2023-12-01')\n",
    "    \n",
    "    # Convert the resource details to a dictionary\n",
    "    resource_json = resource.as_dict()\n",
    "    \n",
    "    # Create a file name based on the resource name\n",
    "    file_name = f\"json_files/{resource.name}.json\"\n",
    "    \n",
    "    # Save the resource details to a JSON file\n",
    "    with open(file_name, 'w') as f:\n",
    "        json.dump(resource_json, f, indent=4)\n",
    "\n",
    "print(\"Resource details saved to json_files directory.\")"
   ]
  },
  {
   "cell_type": "markdown",
   "metadata": {},
   "source": [
    "**GitHub Copilot**\n",
    "\n",
    "If the resource type is 'servers', use api_version: '2014-01-01', otherwise use api_version '2023-12-01'"
   ]
  },
  {
   "cell_type": "code",
   "execution_count": null,
   "metadata": {},
   "outputs": [],
   "source": [
    "import os\n",
    "import json\n",
    "\n",
    "# Ensure the directory exists\n",
    "os.makedirs('json_files', exist_ok=True)\n",
    "\n",
    "# Iterate over each resource ID in the resource_array\n",
    "for resource_id in resource_array:\n",
    "    # Get the resource details\n",
    "    if 'servers' in resource_id:\n",
    "        api_version = '2014-01-01'\n",
    "    else:\n",
    "        api_version = '2023-12-01'\n",
    "    resource = resource_client.resources.get_by_id(resource_id, api_version=api_version)\n",
    "    \n",
    "    # Convert the resource details to a dictionary\n",
    "    resource_json = resource.as_dict()\n",
    "    \n",
    "    # Create a file name based on the resource name\n",
    "    file_name = f\"json_files/{resource.name}.json\"\n",
    "    \n",
    "    # Save the resource details to a JSON file\n",
    "    with open(file_name, 'w') as f:\n",
    "        json.dump(resource_json, f, indent=4)\n",
    "\n",
    "print(\"Resource details saved to json_files directory.\")"
   ]
  },
  {
   "cell_type": "code",
   "execution_count": null,
   "metadata": {},
   "outputs": [],
   "source": [
    "import os\n",
    "import json\n",
    "\n",
    "# Ensure the directory exists\n",
    "os.makedirs('json_files', exist_ok=True)\n",
    "\n",
    "# Iterate over each resource ID in the resource_array\n",
    "for resource_id in resource_array:\n",
    "    # Get the resource details\n",
    "    if 'servers' in resource_id:\n",
    "        api_version = '2014-01-01'\n",
    "    else:\n",
    "        if 'storageAccounts' in resource_id:\n",
    "            api_version = '2024-01-01'\n",
    "        else:\n",
    "            api_version = '2023-12-01'\n",
    "    resource = resource_client.resources.get_by_id(resource_id, api_version=api_version)\n",
    "    \n",
    "    # Convert the resource details to a dictionary\n",
    "    resource_json = resource.as_dict()\n",
    "    \n",
    "    # Create a file name based on the resource name\n",
    "    file_name = f\"json_files/{resource.name}.json\"\n",
    "    \n",
    "    # Save the resource details to a JSON file\n",
    "    with open(file_name, 'w') as f:\n",
    "        json.dump(resource_json, f, indent=4)\n",
    "\n",
    "print(\"Resource details saved to json_files directory.\")"
   ]
  },
  {
   "cell_type": "markdown",
   "metadata": {},
   "source": [
    "# 2. Save the files to the blob storage"
   ]
  },
  {
   "cell_type": "markdown",
   "metadata": {},
   "source": [
    "**GitHub Copilot**\n",
    "\n",
    "Save all the files from folder json_files to the provided blob storage"
   ]
  },
  {
   "cell_type": "code",
   "execution_count": null,
   "metadata": {
    "vscode": {
     "languageId": "markdown"
    }
   },
   "outputs": [],
   "source": [
    "from azure.storage.blob import BlobServiceClient, BlobClient, ContainerClient\n",
    "from azure.core.exceptions import ResourceExistsError\n",
    "\n",
    "# Initialize the BlobServiceClient\n",
    "blob_service_client = BlobServiceClient.from_connection_string(connection_string)\n",
    "\n",
    "# Get the container client\n",
    "container_client = blob_service_client.get_container_client(container_name)\n",
    "\n",
    "# Ensure the container exists\n",
    "try:\n",
    "    container_client.create_container()\n",
    "except ResourceExistsError:\n",
    "    print(f\"Container '{container_name}' already exists.\")\n",
    "\n",
    "# Iterate over each file in the json_files folder\n",
    "for json_file in os.listdir('json_files'):\n",
    "    file_path = os.path.join('json_files', json_file)\n",
    "    \n",
    "    # Create a blob client\n",
    "    blob_client = container_client.get_blob_client(json_file)\n",
    "    \n",
    "    # Upload the file to the blob storage\n",
    "    with open(file_path, 'rb') as data:\n",
    "        blob_client.upload_blob(data, overwrite=True)\n",
    "\n",
    "print(\"Files uploaded to blob storage.\")"
   ]
  },
  {
   "cell_type": "markdown",
   "metadata": {},
   "source": [
    "# 3. Create a mermaid diagram"
   ]
  },
  {
   "cell_type": "markdown",
   "metadata": {},
   "source": [
    "Install the required libraries"
   ]
  },
  {
   "cell_type": "code",
   "execution_count": null,
   "metadata": {},
   "outputs": [],
   "source": [
    "%pip install mermaid-py"
   ]
  },
  {
   "cell_type": "code",
   "execution_count": null,
   "metadata": {},
   "outputs": [],
   "source": [
    "import os\n",
    "import json\n",
    "\n",
    "# Initialize a markdown string\n",
    "markdown_content = \"# Azure Resources\\n\\n\"\n",
    "\n",
    "json_files = os.listdir('json_files')\n",
    "\n",
    "# Iterate over each JSON file in the json_files folder\n",
    "for json_file in json_files:\n",
    "    file_path = os.path.join('json_files', json_file)\n",
    "    \n",
    "    # Read the JSON file\n",
    "    with open(file_path, 'r') as f:\n",
    "        resource_data = json.load(f)\n",
    "    \n",
    "    # Extract relevant information\n",
    "    resource_id = resource_data['id']\n",
    "    resource_name = resource_data['name']\n",
    "    resource_type = resource_data['type']\n",
    "    \n",
    "    # Append the resource information to the markdown content\n",
    "    markdown_content += f\"## {resource_name}\\n\"\n",
    "    markdown_content += f\"- **ID**: {resource_id}\\n\"\n",
    "    markdown_content += f\"- **Type**: {resource_type}\\n\"\n",
    "    \n",
    "    # If the resource has dependencies, list them\n",
    "    if 'dependsOn' in resource_data:\n",
    "        markdown_content += \"- **Depends On**:\\n\"\n",
    "        for dependency in resource_data['dependsOn']:\n",
    "            dependency_name = dependency.split('/')[-1]\n",
    "            markdown_content += f\"  - {dependency_name}\\n\"\n",
    "    \n",
    "    markdown_content += \"\\n\"\n",
    "\n",
    "# Save the markdown content to a file\n",
    "with open('azure_resources.md', 'w') as f:\n",
    "    f.write(markdown_content)\n",
    "\n",
    "print(\"Markdown file 'azure_resources.md' generated.\")"
   ]
  },
  {
   "cell_type": "code",
   "execution_count": null,
   "metadata": {},
   "outputs": [],
   "source": [
    "import mermaid as md\n",
    "from mermaid.graph import Graph\n",
    "\n",
    "sequence = Graph('Sequence-diagram',\"\"\"\n",
    "stateDiagram-v2\n",
    "    [*] --> Still\n",
    "    Still --> [*]\n",
    "\n",
    "    Still --> Moving\n",
    "    Moving --> Still\n",
    "    Moving --> Crash\n",
    "    Crash --> [*]\n",
    "\"\"\")\n",
    "render = md.Mermaid(sequence)\n",
    "render # !! note this only works in the notebook that rendered the html."
   ]
  },
  {
   "cell_type": "markdown",
   "metadata": {},
   "source": [
    "**GitHub Copilot**\n",
    "\n",
    "User the mermaid-py library and 'from mermaid.graph import Graph' to create a graph from files in folder json_files"
   ]
  },
  {
   "cell_type": "code",
   "execution_count": null,
   "metadata": {},
   "outputs": [],
   "source": [
    "import mermaid as md\n",
    "from mermaid.graph import Graph\n",
    "\n",
    "# Read the markdown content from the file\n",
    "with open('azure_resources.md', 'r') as f:\n",
    "    markdown_content = f.read()\n",
    "\n",
    "# Initialize the graph with the title and markdown content\n",
    "graph = Graph(title='Azure Resources', script=markdown_content)\n",
    "\n",
    "# Render the graph\n",
    "# graph.show()\n",
    "render = md.Mermaid(graph)\n",
    "render"
   ]
  },
  {
   "cell_type": "code",
   "execution_count": null,
   "metadata": {},
   "outputs": [],
   "source": [
    "import mermaid as md\n",
    "from mermaid.graph import Graph\n",
    "import os\n",
    "import json\n",
    "\n",
    "# Initialize the state diagram\n",
    "state_diagram = \"\"\"\n",
    "stateDiagram-v2\n",
    "\"\"\"\n",
    "\n",
    "# Iterate over each JSON file in the json_files folder\n",
    "for json_file in json_files:\n",
    "    file_path = os.path.join('json_files', json_file)\n",
    "    \n",
    "    # Read the JSON file\n",
    "    with open(file_path, 'r') as f:\n",
    "        resource_data = json.load(f)\n",
    "    \n",
    "    # Extract relevant information\n",
    "    json_files = os.listdir('json_files')\n",
    "    resource_name = resource_data['name']\n",
    "    \n",
    "    # Add states to the diagram\n",
    "    state_diagram += f\"    {resource_name} --> [*]\\n\"\n",
    "    state_diagram += f\"    [*] --> {resource_name}\\n\"\n",
    "\n",
    "# Create the graph\n",
    "sequence = Graph('Sequence-diagram', state_diagram)\n",
    "\n",
    "# Render the graph\n",
    "render = md.Mermaid(sequence)\n",
    "render"
   ]
  },
  {
   "cell_type": "code",
   "execution_count": null,
   "metadata": {},
   "outputs": [],
   "source": [
    "import mermaid as md\n",
    "from mermaid.graph import Graph\n",
    "\n",
    "sequence = Graph('Sequence-diagram',\"\"\"\n",
    "architecture-beta\n",
    "    group api(cloud)[API]\n",
    "\n",
    "    service db(database)[Database] in api\n",
    "    service disk1(disk)[Storage] in api\n",
    "    service disk2(disk)[Storage] in api\n",
    "    service server(server)[Server] in api\n",
    "\n",
    "    db:L -- R:server\n",
    "    disk1:T -- B:server\n",
    "    disk2:T -- B:db\n",
    "    \n",
    "\n",
    "\"\"\")\n",
    "render = md.Mermaid(sequence)\n",
    "render # !! note this only works in the notebook that rendered the html.\n",
    "\n",
    "# reverse engineer - make a mermaid diagram on web and then write the prompt"
   ]
  },
  {
   "cell_type": "code",
   "execution_count": null,
   "metadata": {},
   "outputs": [],
   "source": [
    "sample_mermaid_diagram = \"\"\"\n",
    "architecture-beta\n",
    "    group api(cloud)[API]\n",
    "\n",
    "    service db(database)[Database] in api\n",
    "    service disk1(disk)[Storage] in api\n",
    "    service disk2(disk)[Storage] in api\n",
    "    service server(server)[Server] in api\n",
    "\n",
    "    db:L -- R:server\n",
    "    disk1:T -- B:server\n",
    "    disk2:T -- B:db\n",
    "\"\"\""
   ]
  },
  {
   "cell_type": "code",
   "execution_count": null,
   "metadata": {},
   "outputs": [],
   "source": [
    "new_md = sample_mermaid_diagram\n",
    "\n",
    "# Iterate over each JSON file in the json_files folder\n",
    "for json_file in json_files:\n",
    "    file_path = os.path.join('json_files', json_file)\n",
    "    \n",
    "    # Read the JSON file\n",
    "    with open(file_path, 'r') as f:\n",
    "        resource_data = json.load(f)\n",
    "    \n",
    "    # Extract relevant information\n",
    "    resource_name = resource_data['name']\n",
    "    resource_type = resource_data['type'].split('/')[-1]\n",
    "    \n",
    "    # Add services to the diagram\n",
    "    new_md += f\"    service {resource_name}({resource_type})[{resource_type}] in api\\n\"\n",
    "\n",
    "# Add relationships (example relationships, you can customize as needed)\n",
    "new_md += \"\"\"\n",
    "    db:L -- R:server\n",
    "    disk1:T -- B:server\n",
    "    disk2:T -- B:db\n",
    "\"\"\"\n",
    "\n",
    "# Output the new_md variable\n",
    "new_md"
   ]
  },
  {
   "cell_type": "code",
   "execution_count": null,
   "metadata": {},
   "outputs": [],
   "source": [
    "import os\n",
    "import json\n",
    "\n",
    "# Initialize the state diagram\n",
    "state_diagram = \"\"\"\n",
    "architecture-beta\n",
    "    group api(cloud)[API]\n",
    "\"\"\"\n",
    "\n",
    "# Iterate over each JSON file in the json_files folder\n",
    "json_files = os.listdir('json_files')\n",
    "for json_file in json_files:\n",
    "    file_path = os.path.join('json_files', json_file)\n",
    "    \n",
    "    # Read the JSON file\n",
    "    with open(file_path, 'r') as f:\n",
    "        resource_data = json.load(f)\n",
    "    \n",
    "    # Extract relevant information\n",
    "    resource_name = resource_data['name']\n",
    "    resource_type = resource_data['type'].split('/')[-1]\n",
    "    \n",
    "    # Add services to the diagram\n",
    "    state_diagram += f\"    service {resource_name}({resource_type})[{resource_type}] in api\\n\"\n",
    "\n",
    "# Add relationships (example relationships, you can customize as needed)\n",
    "state_diagram += \"\"\"\n",
    "    db:L -- R:server\n",
    "    disk1:T -- B:server\n",
    "    disk2:T -- B:db\n",
    "\"\"\"\n",
    "\n",
    "# Create the graph\n",
    "sequence = Graph('Sequence-diagram', state_diagram)\n",
    "\n",
    "# Render the graph\n",
    "render = md.Mermaid(sequence)\n",
    "render"
   ]
  }
 ],
 "metadata": {
  "kernelspec": {
   "display_name": "Python 3",
   "language": "python",
   "name": "python3"
  },
  "language_info": {
   "codemirror_mode": {
    "name": "ipython",
    "version": 3
   },
   "file_extension": ".py",
   "mimetype": "text/x-python",
   "name": "python",
   "nbconvert_exporter": "python",
   "pygments_lexer": "ipython3",
   "version": "3.12.6"
  }
 },
 "nbformat": 4,
 "nbformat_minor": 2
}
